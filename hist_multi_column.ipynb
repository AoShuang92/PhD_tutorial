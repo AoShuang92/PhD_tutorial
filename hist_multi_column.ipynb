{
  "nbformat": 4,
  "nbformat_minor": 0,
  "metadata": {
    "colab": {
      "provenance": [],
      "authorship_tag": "ABX9TyMYzQUofFlSu+sycJNoNwri",
      "include_colab_link": true
    },
    "kernelspec": {
      "name": "python3",
      "display_name": "Python 3"
    },
    "language_info": {
      "name": "python"
    }
  },
  "cells": [
    {
      "cell_type": "markdown",
      "metadata": {
        "id": "view-in-github",
        "colab_type": "text"
      },
      "source": [
        "<a href=\"https://colab.research.google.com/github/AoShuang92/PhD_tutorial/blob/main/hist_multi_column.ipynb\" target=\"_parent\"><img src=\"https://colab.research.google.com/assets/colab-badge.svg\" alt=\"Open In Colab\"/></a>"
      ]
    },
    {
      "cell_type": "code",
      "execution_count": 28,
      "metadata": {
        "id": "KfG1N7jqpouh"
      },
      "outputs": [],
      "source": [
        "import numpy as np\n",
        "import matplotlib.pyplot as plt\n",
        "\n",
        "under = np.array([-0.323, -0.321, -0.312, -0.308, -0.286, -0.279, -0.256, -0.254, -0.253, -0.25 ])\n",
        "over = np.array ([0.251, 0.282, 0.29 , 0.307, 0.31 , 0.314, 0.341, 0.382, 0.386, 0.39 ])\n",
        "uder_over = np.concatenate([under,over])\n",
        "\n",
        "T= 0.885\n",
        "mcs_T_under = np.array([0.88007405, 0.88      , 0.88022216, 0.88059243, 0.88103675,\n",
        "        0.88130827, 0.8822216 , 0.88204881, 0.88177728, 0.88180196,])\n",
        "\n",
        "mcs_T_over = np.array([  0.89446508, 0.89508219, 0.89498345, 0.89562525, 0.89599551,\n",
        "        0.89552651, 0.89629173, 0.89750126, 0.8976    , 0.89730379])\n",
        "\n",
        "mcs = np.concatenate([mcs_T_under,mcs_T_over])"
      ]
    },
    {
      "cell_type": "code",
      "source": [
        "fig, ax = plt.subplots(1, 1, figsize=(10, 4), gridspec_kw=dict(wspace=0.2, hspace=0.3))\n",
        "\n",
        "ax.bar(np.arange(len(uder_over)), uder_over, width=0.2)\n",
        "ax.bar(np.arange(len(uder_over))+ 0.2, T, width=0.2)\n",
        "ax.bar(np.arange(len(uder_over))+ 0.4, mcs, width=0.2)\n",
        "ax.set_xticks(ticks=np.arange(len(uder_over)));"
      ],
      "metadata": {
        "colab": {
          "base_uri": "https://localhost:8080/",
          "height": 265
        },
        "id": "c2yyfXpVr9kC",
        "outputId": "cfb678e6-0785-4437-a68e-8aaa4d16a4b4"
      },
      "execution_count": 29,
      "outputs": [
        {
          "output_type": "display_data",
          "data": {
            "text/plain": [
              "<Figure size 720x288 with 1 Axes>"
            ],
            "image/png": "[encoded data removed]"
          },
          "metadata": {
            "needs_background": "light"
          }
        }
      ]
    },
    {
      "cell_type": "code",
      "source": [
        "diff = mcs-T\n",
        "fig, ax = plt.subplots(1, 1, figsize=(10, 4), gridspec_kw=dict(wspace=0.2, hspace=0.3))\n",
        "\n",
        "ax.bar(np.arange(len(uder_over)), uder_over, width=0.2)\n",
        "# ax.bar(np.arange(len(uder_over))+ 0.2, T, width=0.2)\n",
        "ax.bar(np.arange(len(uder_over))+ 0.2, (mcs-T)*100, width=0.2)\n",
        "ax.set_xticks(ticks=np.arange(len(uder_over)));"
      ],
      "metadata": {
        "colab": {
          "base_uri": "https://localhost:8080/",
          "height": 265
        },
        "id": "gYTgidFr0H6r",
        "outputId": "29c0d829-d53a-4d64-9456-fde2930e78e8"
      },
      "execution_count": 32,
      "outputs": [
        {
          "output_type": "display_data",
          "data": {
            "text/plain": [
              "<Figure size 720x288 with 1 Axes>"
            ],
            "image/png": "[encoded data removed]"
          },
          "metadata": {
            "needs_background": "light"
          }
        }
      ]
    },
    {
      "cell_type": "code",
      "source": [
        "mm = mcs*100\n",
        "mm/mm.max()"
      ],
      "metadata": {
        "colab": {
          "base_uri": "https://localhost:8080/"
        },
        "id": "RT8mKbossPOH",
        "outputId": "3c9a1300-fe4a-4098-ab24-006d65fc5f67"
      },
      "execution_count": 31,
      "outputs": [
        {
          "output_type": "execute_result",
          "data": {
            "text/plain": [
              "array([0.98047465, 0.98039216, 0.98063966, 0.98105217, 0.98154718,\n",
              "       0.98184968, 0.9828672 , 0.9826747 , 0.98237219, 0.98239969,\n",
              "       0.99650744, 0.99719495, 0.99708495, 0.99779997, 0.99821247,\n",
              "       0.99768996, 0.99854248, 0.99989   , 1.        , 0.99967   ])"
            ]
          },
          "metadata": {},
          "execution_count": 31
        }
      ]
    },
    {
      "cell_type": "code",
      "source": [
        "T"
      ],
      "metadata": {
        "colab": {
          "base_uri": "https://localhost:8080/"
        },
        "id": "pY9wwNI6tAzy",
        "outputId": "7b79c27f-9b55-40c0-992b-d87d8cac37c1"
      },
      "execution_count": 25,
      "outputs": [
        {
          "output_type": "execute_result",
          "data": {
            "text/plain": [
              "array([0.885, 0.885, 0.885, 0.885, 0.885, 0.885, 0.885, 0.885, 0.885,\n",
              "       0.885, 0.885, 0.885, 0.885, 0.885, 0.885, 0.885, 0.885, 0.885,\n",
              "       0.885, 0.885])"
            ]
          },
          "metadata": {},
          "execution_count": 25
        }
      ]
    },
    {
      "cell_type": "code",
      "source": [],
      "metadata": {
        "id": "UTUzR868xbLE"
      },
      "execution_count": null,
      "outputs": []
    }
  ]
}