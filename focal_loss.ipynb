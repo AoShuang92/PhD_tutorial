{
  "nbformat": 4,
  "nbformat_minor": 0,
  "metadata": {
    "colab": {
      "provenance": [],
      "authorship_tag": "ABX9TyNQTX5iG8jRYreedcwLCOt6",
      "include_colab_link": true
    },
    "kernelspec": {
      "name": "python3",
      "display_name": "Python 3"
    },
    "language_info": {
      "name": "python"
    }
  },
  "cells": [
    {
      "cell_type": "markdown",
      "metadata": {
        "id": "view-in-github",
        "colab_type": "text"
      },
      "source": [
        "<a href=\"https://colab.research.google.com/github/AoShuang92/PhD_tutorial/blob/main/focal_loss.ipynb\" target=\"_parent\"><img src=\"https://colab.research.google.com/assets/colab-badge.svg\" alt=\"Open In Colab\"/></a>"
      ]
    },
    {
      "cell_type": "code",
      "execution_count": 14,
      "metadata": {
        "id": "d4i7RqOrTMN3"
      },
      "outputs": [],
      "source": [
        "import numpy as np \n",
        "\n",
        "#torch\n",
        "import torch\n",
        "import torch.nn as nn\n",
        "from torch.nn import functional as F\n",
        "\n",
        "class Focal_Loss(nn.Module):\n",
        "    def __init__(self, alpha=.25, gamma= 2, reduction='mean'):\n",
        "        super(Focal_Loss, self).__init__()\n",
        "        \"\"\"\n",
        "        Arguments\n",
        "        ---------\n",
        "        alpha : 0.25 = alpha hyperparameter in focal loss\n",
        "        gamma : 1 =  gamma hyperparameter in focal loss\n",
        "        reduction : averaging total loss\n",
        "        \"\"\"\n",
        "        \n",
        "       \n",
        "        self.reduction = reduction\n",
        "        self.gamma = gamma\n",
        "        self.alpha = alpha\n",
        "    def forward(self, x, target):\n",
        "        \n",
        "        logprobs = F.log_softmax(x, dim=-1)\n",
        "        ce_loss = -logprobs.gather(dim=-1, index=target.unsqueeze(1))\n",
        "        ce_loss = ce_loss.squeeze(1)\n",
        "        pt = torch.exp(-ce_loss)\n",
        "        loss = self.alpha * (1-pt)**self.gamma * ce_loss\n",
        "        \n",
        "        if  self.reduction == 'sum':\n",
        "            loss = loss.sum()\n",
        "        elif  self.reduction == 'mean':\n",
        "            loss = loss.mean()\n",
        "        return loss\n"
      ]
    },
    {
      "cell_type": "code",
      "source": [
        "logit = torch.tensor([0.2, 0.8, -0.4])\n",
        "labels = torch.tensor([0])\n",
        "\n",
        "loss = Focal_Loss()\n",
        "ls = loss(logit[None,:], labels)\n",
        "ls"
      ],
      "metadata": {
        "colab": {
          "base_uri": "https://localhost:8080/"
        },
        "id": "pSaQbQLzTkEm",
        "outputId": "61675a31-a6cd-48f8-80a1-28de19d2e2da"
      },
      "execution_count": 15,
      "outputs": [
        {
          "output_type": "execute_result",
          "data": {
            "text/plain": [
              "tensor(0.1503)"
            ]
          },
          "metadata": {},
          "execution_count": 15
        }
      ]
    },
    {
      "cell_type": "code",
      "source": [],
      "metadata": {
        "id": "AZDZ_p2-U7JH"
      },
      "execution_count": null,
      "outputs": []
    }
  ]
}