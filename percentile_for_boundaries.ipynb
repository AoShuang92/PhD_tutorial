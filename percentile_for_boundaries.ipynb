{
  "nbformat": 4,
  "nbformat_minor": 0,
  "metadata": {
    "colab": {
      "provenance": [],
      "authorship_tag": "ABX9TyNxIzLrAZnQmV48Vh0/410T",
      "include_colab_link": true
    },
    "kernelspec": {
      "name": "python3",
      "display_name": "Python 3"
    },
    "language_info": {
      "name": "python"
    }
  },
  "cells": [
    {
      "cell_type": "markdown",
      "metadata": {
        "id": "view-in-github",
        "colab_type": "text"
      },
      "source": [
        "<a href=\"https://colab.research.google.com/github/AoShuang92/PhD_tutorial/blob/main/percentile_for_boundaries.ipynb\" target=\"_parent\"><img src=\"https://colab.research.google.com/assets/colab-badge.svg\" alt=\"Open In Colab\"/></a>"
      ]
    },
    {
      "cell_type": "code",
      "execution_count": 2,
      "metadata": {
        "id": "Vi0PiPR98Jzw"
      },
      "outputs": [],
      "source": [
        "import numpy as np\n"
      ]
    },
    {
      "cell_type": "code",
      "source": [
        "bb = np.array([-0.5, 0.2, 1.5, 2])\n",
        "normed = bb / max(bb)\n",
        "normed\n",
        "\n",
        "gemma = -0.2 \n",
        "opt_t = 2\n",
        "norm_ece_level = normed\n",
        "\n",
        "result = opt_t * (1+ norm_ece_level * gemma)\n",
        "print(result)"
      ],
      "metadata": {
        "colab": {
          "base_uri": "https://localhost:8080/"
        },
        "id": "ABtRWnpkfnxp",
        "outputId": "c0fbcd07-7c5b-4468-9d69-2cfb5f2a1602"
      },
      "execution_count": 11,
      "outputs": [
        {
          "output_type": "stream",
          "name": "stdout",
          "text": [
            "[2.1  1.96 1.7  1.6 ]\n"
          ]
        }
      ]
    },
    {
      "cell_type": "code",
      "source": [
        "bb = np.array([-0.5, -0.2,-0.1, 0.1, 0.5])\n",
        "normed = bb / max(bb)\n",
        "normed\n",
        "\n",
        "gemma = 0.02 \n",
        "opt_t = 0.8\n",
        "norm_ece_level = normed\n",
        "\n",
        "result = opt_t * (1+ norm_ece_level * gemma)\n",
        "print(result, -1.5/result)\n",
        "import torch.nn.functional as F\n",
        "import torch\n",
        "tt = torch.tensor(-1.5/result)\n",
        "F.softmax(tt.unsqueeze(0), dim=1)"
      ],
      "metadata": {
        "colab": {
          "base_uri": "https://localhost:8080/"
        },
        "id": "MjMTWNxski37",
        "outputId": "db1a9e00-ac44-49d5-a09c-03b0ff2f60dd"
      },
      "execution_count": 27,
      "outputs": [
        {
          "output_type": "stream",
          "name": "stdout",
          "text": [
            "[0.784  0.7936 0.7968 0.8032 0.816 ] [-1.91326531 -1.89012097 -1.88253012 -1.86752988 -1.83823529]\n"
          ]
        },
        {
          "output_type": "execute_result",
          "data": {
            "text/plain": [
              "tensor([[0.1931, 0.1976, 0.1991, 0.2021, 0.2081]], dtype=torch.float64)"
            ]
          },
          "metadata": {},
          "execution_count": 27
        }
      ]
    },
    {
      "cell_type": "code",
      "source": [
        "bb = np.array([-0.5, -0.2,-0.1, 0.1, 0.5])\n",
        "normed = bb / max(bb)\n",
        "normed\n",
        "\n",
        "gemma = -0.02 \n",
        "opt_t = 0.8\n",
        "norm_ece_level = normed\n",
        "\n",
        "result = opt_t * (1+ norm_ece_level * gemma)\n",
        "print(result, -1.5/result)"
      ],
      "metadata": {
        "colab": {
          "base_uri": "https://localhost:8080/"
        },
        "id": "ZpRKAL69f_V5",
        "outputId": "cde2f47e-728a-4c09-8b3f-f81ec2fb82a5"
      },
      "execution_count": 22,
      "outputs": [
        {
          "output_type": "stream",
          "name": "stdout",
          "text": [
            "[0.816  0.8064 0.8032 0.7968 0.784 ] [-1.83823529 -1.86011905 -1.86752988 -1.88253012 -1.91326531]\n"
          ]
        }
      ]
    },
    {
      "cell_type": "code",
      "source": [
        "import torch.nn.functional as F\n",
        "import torch\n",
        "tt = torch.tensor(-1.5/result)\n",
        "F.softmax(tt.unsqueeze(0), dim=1)"
      ],
      "metadata": {
        "colab": {
          "base_uri": "https://localhost:8080/"
        },
        "id": "LBp00ixrj0Bh",
        "outputId": "cd7ff892-b51a-4d5e-bc80-300396d0b231"
      },
      "execution_count": 26,
      "outputs": [
        {
          "output_type": "execute_result",
          "data": {
            "text/plain": [
              "tensor([[0.2069, 0.2024, 0.2009, 0.1979, 0.1919]], dtype=torch.float64)"
            ]
          },
          "metadata": {},
          "execution_count": 26
        }
      ]
    },
    {
      "cell_type": "code",
      "source": [
        "bb = np.array([-0.5, 0.2, 1.5, 2])\n",
        "normed = bb / max(bb)\n",
        "print(normed)\n",
        "\n",
        "gemma = 0.2 \n",
        "opt_t = 2\n",
        "norm_ece_level = normed\n",
        "\n",
        "result = opt_t * (1+ norm_ece_level * gemma)\n",
        "print(result)"
      ],
      "metadata": {
        "colab": {
          "base_uri": "https://localhost:8080/"
        },
        "id": "OzP8cBFQ-PQ_",
        "outputId": "03eaf28d-6191-46e7-84a7-84320b6174c2"
      },
      "execution_count": 13,
      "outputs": [
        {
          "output_type": "stream",
          "name": "stdout",
          "text": [
            "[-0.25  0.1   0.75  1.  ]\n",
            "[1.9  2.04 2.3  2.4 ]\n"
          ]
        }
      ]
    },
    {
      "cell_type": "code",
      "source": [],
      "metadata": {
        "id": "9H4kPzn9je40"
      },
      "execution_count": null,
      "outputs": []
    },
    {
      "cell_type": "code",
      "source": [
        "cc = bb [bb>=3]\n",
        "cc"
      ],
      "metadata": {
        "colab": {
          "base_uri": "https://localhost:8080/"
        },
        "id": "_wTfO-yu_LLS",
        "outputId": "29d59246-5746-457e-86aa-0dca50fc5c5a"
      },
      "execution_count": 14,
      "outputs": [
        {
          "output_type": "execute_result",
          "data": {
            "text/plain": [
              "array([], dtype=float64)"
            ]
          },
          "metadata": {},
          "execution_count": 14
        }
      ]
    },
    {
      "cell_type": "code",
      "source": [
        "cc.mean()"
      ],
      "metadata": {
        "colab": {
          "base_uri": "https://localhost:8080/"
        },
        "id": "cMJ6DiZNAg99",
        "outputId": "e36ab7b6-cb99-4839-cc0b-4e47e469928c"
      },
      "execution_count": 14,
      "outputs": [
        {
          "output_type": "stream",
          "name": "stderr",
          "text": [
            "<ipython-input-14-efc7b2d3f397>:1: RuntimeWarning: Mean of empty slice.\n",
            "  cc.mean()\n",
            "/usr/local/lib/python3.8/dist-packages/numpy/core/_methods.py:189: RuntimeWarning: invalid value encountered in double_scalars\n",
            "  ret = ret.dtype.type(ret / rcount)\n"
          ]
        },
        {
          "output_type": "execute_result",
          "data": {
            "text/plain": [
              "nan"
            ]
          },
          "metadata": {},
          "execution_count": 14
        }
      ]
    },
    {
      "cell_type": "code",
      "source": [
        "import numpy as np\n",
        "bb = np.array([-7, -5, -1, 0.2, 1.5, 2, 7, 9])\n",
        "q1 = np.percentile(bb, 25, interpolation = 'midpoint')\n",
        "q3 = np.percentile(bb, 75, interpolation = 'midpoint')\n",
        "IQR = q3 - q1\n",
        "upper = q3 + 1.5 * IQR\n",
        "lower = q1 - 1.5 * IQR\n",
        "q1, q3, lower, upper"
      ],
      "metadata": {
        "colab": {
          "base_uri": "https://localhost:8080/"
        },
        "id": "Cs3cjLaxAunX",
        "outputId": "f34ccad8-adbc-4184-bbbe-74bc436776bd"
      },
      "execution_count": 37,
      "outputs": [
        {
          "output_type": "execute_result",
          "data": {
            "text/plain": [
              "(-3.0, 4.5, -14.25, 15.75)"
            ]
          },
          "metadata": {},
          "execution_count": 37
        }
      ]
    },
    {
      "cell_type": "code",
      "source": [
        "# bb = np.array([-15, -1, 0.2, 1.5, 2, 20])\n",
        "bb[bb<lower] = lower\n",
        "bb"
      ],
      "metadata": {
        "colab": {
          "base_uri": "https://localhost:8080/"
        },
        "id": "va45gKXQFW_5",
        "outputId": "93b222e8-34c4-49dc-937e-425f9df5d1aa"
      },
      "execution_count": 38,
      "outputs": [
        {
          "output_type": "execute_result",
          "data": {
            "text/plain": [
              "array([-7. , -5. , -1. ,  0.2,  1.5,  2. ,  7. ,  9. ])"
            ]
          },
          "metadata": {},
          "execution_count": 38
        }
      ]
    },
    {
      "cell_type": "code",
      "source": [
        "bb[bb>upper] = upper\n",
        "bb"
      ],
      "metadata": {
        "colab": {
          "base_uri": "https://localhost:8080/"
        },
        "id": "63Y-1SWtFto7",
        "outputId": "7e9ddcab-4eca-471b-a430-768ef1b01eb0"
      },
      "execution_count": 39,
      "outputs": [
        {
          "output_type": "execute_result",
          "data": {
            "text/plain": [
              "array([-7. , -5. , -1. ,  0.2,  1.5,  2. ,  7. ,  9. ])"
            ]
          },
          "metadata": {},
          "execution_count": 39
        }
      ]
    },
    {
      "cell_type": "code",
      "source": [],
      "metadata": {
        "id": "If09qB47F1JC"
      },
      "execution_count": null,
      "outputs": []
    }
  ]
}