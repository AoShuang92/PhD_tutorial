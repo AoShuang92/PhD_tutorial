{
  "nbformat": 4,
  "nbformat_minor": 0,
  "metadata": {
    "colab": {
      "name": "entropy_uncertainty",
      "provenance": [],
      "include_colab_link": true
    },
    "kernelspec": {
      "name": "python3",
      "display_name": "Python 3"
    },
    "language_info": {
      "name": "python"
    }
  },
  "cells": [
    {
      "cell_type": "markdown",
      "metadata": {
        "id": "view-in-github",
        "colab_type": "text"
      },
      "source": [
        "<a href=\"https://colab.research.google.com/github/AoShuang92/PhD_tutorial/blob/main/entropy_uncertainty.ipynb\" target=\"_parent\"><img src=\"https://colab.research.google.com/assets/colab-badge.svg\" alt=\"Open In Colab\"/></a>"
      ]
    },
    {
      "cell_type": "markdown",
      "source": [
        "# Entropy in Machine Learning\n",
        "Entropy in physics is a measurement of randomness in an isolated system. It’s quite similar when it comes to machine learning! Here, entropy is also a measure of randomness. However, here, you measure the disorder of the information processed in your ML project.\n",
        "\n",
        "\n",
        "Let’s use a simple example–flipping a coin. There can be two outcomes. However, they are difficult to predict because there is no direct relation between the flipping itself and the outcome. Whatever you do, it’s 50-50. In such a situation, entropy is high–getting conclusions from the information is difficult. \n",
        "\n",
        "\n",
        "https://stats.stackexchange.com/questions/25827/how-does-one-measure-the-non-uniformity-of-a-distribution"
      ],
      "metadata": {
        "id": "4ECqLUVUkSXk"
      }
    },
    {
      "cell_type": "markdown",
      "source": [
        "# Entropy with log base 2:"
      ],
      "metadata": {
        "id": "lMJR61YYjdYY"
      }
    },
    {
      "cell_type": "code",
      "execution_count": 1,
      "metadata": {
        "colab": {
          "base_uri": "https://localhost:8080/"
        },
        "id": "IyRqsZAwkMk7",
        "outputId": "409ec411-4bac-429d-d744-42f468e410c4"
      },
      "outputs": [
        {
          "output_type": "stream",
          "name": "stdout",
          "text": [
            "(10,) (10,) (10,)\n",
            "std            : [5 3 6 0 4 2 7 8 1 9]\n",
            "shannon entropy: [5 3 6 2 0 4 8 7 1 9]\n",
            "kl_div         : [5 3 6 2 0 4 8 7 1 9]\n"
          ]
        }
      ],
      "source": [
        "import numpy as np\n",
        "from scipy.stats import entropy\n",
        "from scipy.special import kl_div\n",
        "from scipy.special import rel_entr\n",
        "\n",
        "def get_shannon_entropy(A):\n",
        "    pA = A / A.sum()\n",
        "    se = -np.sum(pA*np.log2(pA))\n",
        "    return se\n",
        "\n",
        "def softmax(x):\n",
        "    f_x = np.exp(x) / np.sum(np.exp(x))\n",
        "    return f_x\n",
        "\n",
        "rng = np.random.default_rng(12345)\n",
        "dist = []\n",
        "std = []\n",
        "se = []\n",
        "kl = []\n",
        "for _ in range(10):\n",
        "    rints = softmax(rng.random((10, 1)))\n",
        "    dist.append(rints)\n",
        "    std.append(np.std(rints))\n",
        "    se.append(entropy(rints, base=2))\n",
        "    kl.append(np.sum(kl_div(np.squeeze(rints), np.ones(10)/10)))\n",
        "std = np.array(std)\n",
        "se = 1 - np.array(se).squeeze()\n",
        "kl = np.array(kl)\n",
        "print(std.shape, se.shape, kl.shape)\n",
        "\n",
        "print('std            :',np.argsort(std))\n",
        "print('shannon entropy:',np.argsort(se))\n",
        "print('kl_div         :',np.argsort(kl))"
      ]
    },
    {
      "cell_type": "markdown",
      "source": [
        "# Entropy with log base 10 (numpy vs scipy vs tensor)"
      ],
      "metadata": {
        "id": "3MOUSKJEbGOf"
      }
    },
    {
      "cell_type": "code",
      "source": [
        "#from numpy\n",
        "from scipy.stats import entropy\n",
        "import numpy as np\n",
        "def get_se_v1(p):\n",
        "    logp = np.log(p)\n",
        "    entropy1 = np.sum(-p*logp)\n",
        "    return entropy1\n",
        "\n",
        "p = np.array([0.1, 0.2, 0.4, 0.3])\n",
        "print('numpy v1:', get_se_v1(p))\n",
        "\n",
        "#scipy\n",
        "print('scipy v2:',entropy(p))\n",
        "\n",
        "#from tensor\n",
        "import torch\n",
        "from torch.distributions import Categorical\n",
        "p_tensor = torch.Tensor(p)\n",
        "entropy2 = Categorical(p_tensor).entropy()\n",
        "print('tensor v3:', entropy2.item())"
      ],
      "metadata": {
        "id": "kRbFpYZjSUn0",
        "colab": {
          "base_uri": "https://localhost:8080/"
        },
        "outputId": "caeb1559-9973-4fe2-a3ae-09a65420a83f"
      },
      "execution_count": 2,
      "outputs": [
        {
          "output_type": "stream",
          "name": "stdout",
          "text": [
            "numpy v1: 1.2798542258336676\n",
            "scipy v2: 1.2798542258336676\n",
            "tensor v3: 1.2798542976379395\n"
          ]
        }
      ]
    },
    {
      "cell_type": "markdown",
      "source": [
        "# Entropy range"
      ],
      "metadata": {
        "id": "nvQOwPOcbJBr"
      }
    },
    {
      "cell_type": "code",
      "source": [
        "p0 = torch.tensor([0.2, 0.2, 0.2, 0.2, 0.2])\n",
        "p1 = torch.tensor([0.0, 0.0, 1, 0.0, 0.0])\n",
        "p2 = torch.tensor([0.1, 0.0, 0.9, 0.0, 0.0])\n",
        "p3 = torch.tensor([0.1, 0.2, 0.4, 0.2, 0.1])\n",
        "\n",
        "se0 = Categorical(p0).entropy()\n",
        "se1 = Categorical(p1).entropy()\n",
        "se2 = Categorical(p2).entropy()\n",
        "se3 = Categorical(p3).entropy()\n",
        "print('se0:%0.4f'%se0.item(), '\\nse1:%0.4f'%se1.item(), '\\nse2:%0.4f'%se2.item(), '\\nse3:%0.4f'% se3.item())"
      ],
      "metadata": {
        "colab": {
          "base_uri": "https://localhost:8080/"
        },
        "id": "_KBXYJYzWNp7",
        "outputId": "3bf0e910-d2bf-4d64-c859-40f835f4576d"
      },
      "execution_count": 3,
      "outputs": [
        {
          "output_type": "stream",
          "name": "stdout",
          "text": [
            "se0:1.6094 \n",
            "se1:0.0000 \n",
            "se2:0.3251 \n",
            "se3:1.4708\n"
          ]
        }
      ]
    },
    {
      "cell_type": "markdown",
      "source": [
        "# Why am I getting information entropy greater than 1?"
      ],
      "metadata": {
        "id": "zF7MOt_hdNrc"
      }
    },
    {
      "cell_type": "markdown",
      "source": [
        "Entropy can be greater than 1 depends on class category (binary or multiclass) and log base (2 or 10).\n",
        "\n",
        "Entropy ranges from 0-1 for binary classification problems and 0 to log base 2 k, where k is the number of classes you have. Entropy measures the \"information\" or \"uncertainty\" of a random variable. When you are using base 2, it is measured in bits; and there can be more than one bit of information in a variable."
      ],
      "metadata": {
        "id": "dr-0ZyH-dSKe"
      }
    },
    {
      "cell_type": "markdown",
      "source": [
        "Binary Category: Log base 2 Vs. Log base 10:"
      ],
      "metadata": {
        "id": "wHc521W8f9jM"
      }
    },
    {
      "cell_type": "code",
      "source": [
        "def get_se_log10(p):\n",
        "    logp = np.log(p)\n",
        "    entropy1 = np.sum(-p*logp)\n",
        "    return entropy1\n",
        "\n",
        "def get_se_log2(p):\n",
        "    logp = np.log2(p)\n",
        "    entropy1 = np.sum(-p*logp)\n",
        "    return entropy1\n",
        "\n",
        "p = np.array([0.5, 0.5])\n",
        "get_se_log10(p), get_se_log2(p)"
      ],
      "metadata": {
        "colab": {
          "base_uri": "https://localhost:8080/"
        },
        "id": "AD9IwVmpf8zB",
        "outputId": "2809bc75-a11f-4c38-d849-50c2b7c5430e"
      },
      "execution_count": 4,
      "outputs": [
        {
          "output_type": "execute_result",
          "data": {
            "text/plain": [
              "(0.6931471805599453, 1.0)"
            ]
          },
          "metadata": {},
          "execution_count": 4
        }
      ]
    },
    {
      "cell_type": "markdown",
      "source": [
        "Multiclass Category: Log base 2 Vs. Log base 10:"
      ],
      "metadata": {
        "id": "ExaWNrr_grSH"
      }
    },
    {
      "cell_type": "code",
      "source": [
        "p = np.array([0.2, 0.2, 0.2, 0.2, 0.2])\n",
        "get_se_log10(p), get_se_log2(p)"
      ],
      "metadata": {
        "colab": {
          "base_uri": "https://localhost:8080/"
        },
        "id": "8l1srYSJgqlm",
        "outputId": "ae3cf379-2a27-4992-d176-c86c8e9e8eef"
      },
      "execution_count": 5,
      "outputs": [
        {
          "output_type": "execute_result",
          "data": {
            "text/plain": [
              "(1.6094379124341005, 2.321928094887362)"
            ]
          },
          "metadata": {},
          "execution_count": 5
        }
      ]
    },
    {
      "cell_type": "markdown",
      "source": [
        "# Therefore, log base 2 is only ideal for binary clssification only."
      ],
      "metadata": {
        "id": "g_P7O2gojNB6"
      }
    },
    {
      "cell_type": "markdown",
      "source": [
        "# Entropy on multiple tensors at a time (log base 10)"
      ],
      "metadata": {
        "id": "MrW7w-L3bLv-"
      }
    },
    {
      "cell_type": "code",
      "source": [
        "p = torch.stack([p0, p1, p2, p3])\n",
        "se = Categorical(p).entropy()\n",
        "print('se0:%0.4f'%se[0].item(), '\\nse1:%0.4f'%se[1].item(), '\\nse2:%0.4f'%se[2].item(), '\\nse3:%0.4f'% se[3].item())"
      ],
      "metadata": {
        "colab": {
          "base_uri": "https://localhost:8080/"
        },
        "id": "UBZxt1j7Wl7O",
        "outputId": "7e3dbbaa-cd4f-4b97-cecf-7dea65f33bb0"
      },
      "execution_count": 5,
      "outputs": [
        {
          "output_type": "stream",
          "name": "stdout",
          "text": [
            "se0:1.6094 \n",
            "se1:0.0000 \n",
            "se2:0.3251 \n",
            "se3:1.4708\n"
          ]
        }
      ]
    },
    {
      "cell_type": "code",
      "source": [
        "p0 = torch.tensor([0.2, 0.8])\n",
        "p1 = torch.tensor([0.8, 0.2])\n",
        "p2 = torch.tensor([0.7, 0.3])\n",
        "p3 = torch.tensor([0.5, 0.5])\n",
        "p = torch.stack([p0, p1, p2, p3])\n",
        "e = Categorical(p).entropy()\n",
        "\n",
        "c1 = e[1] * (1-0.8) ** (-0.8) # [0.8, 0.2]\n",
        "c2 = e[2] * (1-0.7) ** (-0.7) # [0.7, 0.3]\n",
        "c3 = e[3] * (1-0.5) ** (-0.5) # [0.5, 0.5]\n",
        "c1, c2, c3"
      ],
      "metadata": {
        "id": "q5BMn9jZlhJr",
        "outputId": "bb896671-cf2c-4c90-9796-1d6997e2cb1c",
        "colab": {
          "base_uri": "https://localhost:8080/"
        }
      },
      "execution_count": 6,
      "outputs": [
        {
          "output_type": "execute_result",
          "data": {
            "text/plain": [
              "(tensor(1.8134), tensor(1.4189), tensor(0.9803))"
            ]
          },
          "metadata": {},
          "execution_count": 6
        }
      ]
    },
    {
      "cell_type": "code",
      "source": [
        "c0 = e[1] * (1-0.8) ** (-(1-0.8)) # [0.2, 0.8] gt, entropy small\n",
        "c1 = e[1] * (1-0.8) ** (-(1-0.2)) # [0.8, 0.2] wrong pred, entropy big\n",
        "c0, c1, e[1]"
      ],
      "metadata": {
        "id": "VbK7QEOrQvco",
        "outputId": "6e453799-f22a-4fb6-c350-b615caa71b1e",
        "colab": {
          "base_uri": "https://localhost:8080/"
        }
      },
      "execution_count": 8,
      "outputs": [
        {
          "output_type": "execute_result",
          "data": {
            "text/plain": [
              "(tensor(0.6904), tensor(1.8134), tensor(0.5004))"
            ]
          },
          "metadata": {},
          "execution_count": 8
        }
      ]
    },
    {
      "cell_type": "code",
      "source": [
        "p0 = torch.tensor([0.2, 0.2, 0.1, 0.1, 0.4]) #s0. e0\n",
        "p1 = torch.tensor([0.2, 0.2, 0.1, 0.4, 0.1]) #s3. e1\n",
        "p2 = torch.tensor([0.2, 0.2, 0.1, 0.3, 0.2]) #s2. e2\n",
        "p3 = torch.tensor([0.2, 0.2, 0.2, 0.2, 0.2]) #s1  e3\n",
        "p = torch.stack([p0, p1, p2, p3])\n",
        "e = Categorical(p).entropy()\n",
        "\n",
        "c0 = e[0] * (1-0.4) ** (-(1-0.4)) \n",
        "c1 = e[1] * (1-0.4) ** (-(1-0.1)) \n",
        "c2 = e[2] * (1-0.3) ** (-(1-0.2)) \n",
        "c3 = e[3] * (1-0.2) ** (-(1-0.2)) \n",
        "e[0], c0, c1, c2, c3"
      ],
      "metadata": {
        "id": "5tmVD8QBTfOH",
        "outputId": "1b0fbc57-4ce7-4328-f1fd-472a13b08274",
        "colab": {
          "base_uri": "https://localhost:8080/"
        }
      },
      "execution_count": 22,
      "outputs": [
        {
          "output_type": "execute_result",
          "data": {
            "text/plain": [
              "(tensor(1.4708),\n",
              " tensor(1.9983),\n",
              " tensor(2.3293),\n",
              " tensor(2.0713),\n",
              " tensor(1.9240))"
            ]
          },
          "metadata": {},
          "execution_count": 22
        }
      ]
    },
    {
      "cell_type": "code",
      "source": [
        "p0 = torch.tensor([0.2, 0.2, 0.1, 0.1, 0.4]) #s0. e0\n",
        "p1 = torch.tensor([0.2, 0.2, 0.1, 0.4, 0.1]) #s3. e1\n",
        "p2 = torch.tensor([0.2, 0.2, 0.1, 0.3, 0.2]) #s2. e2\n",
        "p3 = torch.tensor([0.2, 0.2, 0.2, 0.2, 0.2]) #s1  e3\n",
        "p = torch.stack([p0, p1, p2, p3])\n",
        "e = Categorical(p).entropy()\n",
        "\n",
        "c0 = e[0] * (1-0.4) ** (-0.4) # [0.8, 0.2]\n",
        "c1 = e[1] * (1-0.4) ** (-0.4) # [0.8, 0.2]\n",
        "c2 = e[2] * (1-0.3) ** (-0.3) # [0.7, 0.3]\n",
        "c3 = e[3] * (1-0.2) ** (-0.2) # [0.5, 0.5]\n",
        "e[0], c0, c1, c2, c3"
      ],
      "metadata": {
        "id": "hWH3mg-RPz1N",
        "outputId": "aef2231b-7b1a-4f73-ca76-8763fef9ca44",
        "colab": {
          "base_uri": "https://localhost:8080/"
        }
      },
      "execution_count": 87,
      "outputs": [
        {
          "output_type": "execute_result",
          "data": {
            "text/plain": [
              "(tensor(1.4708),\n",
              " tensor(1.8042),\n",
              " tensor(1.8042),\n",
              " tensor(1.7330),\n",
              " tensor(1.6829))"
            ]
          },
          "metadata": {},
          "execution_count": 87
        }
      ]
    },
    {
      "cell_type": "code",
      "source": [
        "p0 = torch.tensor([0.2, 0.2, .19, 0.01, 0.4]) #s0. e0\n",
        "p1 = torch.tensor([0.025, 0.025, 0.3, 0.3, 0.35]) #s3. e1\n",
        "\n",
        "p = torch.stack([p0, p1])\n",
        "e = Categorical(p).entropy()\n",
        "c0 = e[0] * (1-0.4) ** (-0.4) # [0.8, 0.2]\n",
        "c1 = e[1] * (1-0.35) ** (-0.35) # [0.8, 0.2]\n",
        "e, p1.sum(), c0, c1"
      ],
      "metadata": {
        "id": "gZ63fZgTWJHV",
        "outputId": "2f97cf59-2db8-48c6-a387-58e4508698a2",
        "colab": {
          "base_uri": "https://localhost:8080/"
        }
      },
      "execution_count": 104,
      "outputs": [
        {
          "output_type": "execute_result",
          "data": {
            "text/plain": [
              "(tensor([1.3719, 1.2743]), tensor(1.), tensor(1.6829), tensor(1.4816))"
            ]
          },
          "metadata": {},
          "execution_count": 104
        }
      ]
    },
    {
      "cell_type": "code",
      "source": [
        "p0 = torch.tensor([0.2, 0.2, .19, 0.01, 0.4]) #s0. e0\n",
        "p1 = torch.tensor([0.025, 0.025, 0.3, 0.3, 0.35]) #s3. e1\n",
        "\n",
        "p = torch.stack([p0, p1])\n",
        "e = Categorical(p).entropy()\n",
        "c0 = e[0] * (1-0.4) ** (-(1-0.4)) # [0.8, 0.2]\n",
        "c1 = e[1] * (1-0.35) ** (-(1-0.35)) # [0.8, 0.2]\n",
        "e, p1.sum(), c0, c1"
      ],
      "metadata": {
        "id": "E5J_b66K7umb",
        "outputId": "3bd3f66f-ae7f-4cc2-c14d-deb05bdaa2dc",
        "colab": {
          "base_uri": "https://localhost:8080/"
        }
      },
      "execution_count": 9,
      "outputs": [
        {
          "output_type": "execute_result",
          "data": {
            "text/plain": [
              "(tensor([1.3719, 1.2743]), tensor(1.), tensor(1.8639), tensor(1.6860))"
            ]
          },
          "metadata": {},
          "execution_count": 9
        }
      ]
    },
    {
      "cell_type": "code",
      "source": [
        "|p0 = torch.tensor([0.2, 0.8])\n",
        "p1 = torch.tensor([0.8, 0.2])\n",
        "p2 = torch.tensor([0.7, 0.3])\n",
        "p3 = torch.tensor([0.5, 0.5])\n",
        "p = torch.stack([p0, p1, p2, p3])\n",
        "e = Categorical(p).entropy()\n",
        "\n",
        "c1 = e[1] * (1-0.8) ** (-0.8) # [0.8, 0.2]\n",
        "c2 = e[2] * (1-0.7) ** (-0.7) # [0.7, 0.3]\n",
        "c3 = e[3] * (1-0.5) ** (-0.5) # [0.5, 0.5]\n",
        "c1, c2, c3"
      ],
      "metadata": {
        "id": "ocZJraYaPsmv"
      },
      "execution_count": null,
      "outputs": []
    },
    {
      "cell_type": "code",
      "source": [
        "c1 = 0.6109 * (1-0.7) ** (-0.7) # [0.7, 0.3]\n",
        "c2 = 0.5004 * (1-0.8) ** (-0.8) # [0.8, 0.2]\n",
        "c3 = 0.6931 * (1-0.5) ** (-0.5) # [0.5, 0.5]\n",
        "c1, c2, c3"
      ],
      "metadata": {
        "id": "GTrpR4LAEpam",
        "outputId": "9476a946-c25c-4e09-b505-546b313d3c0a",
        "colab": {
          "base_uri": "https://localhost:8080/"
        }
      },
      "execution_count": 73,
      "outputs": [
        {
          "output_type": "execute_result",
          "data": {
            "text/plain": [
              "(1.4190093165089037, 1.8133987185215945, 0.9801914200807923)"
            ]
          },
          "metadata": {},
          "execution_count": 73
        }
      ]
    },
    {
      "cell_type": "code",
      "source": [
        "0.5004 * (1-0.8) ** (-0.8) # [0.8, 0.2]"
      ],
      "metadata": {
        "id": "pUjMNCIMJn7n",
        "outputId": "b77284c7-8f27-4f22-a8ad-1006e23a9a12",
        "colab": {
          "base_uri": "https://localhost:8080/"
        }
      },
      "execution_count": 70,
      "outputs": [
        {
          "output_type": "execute_result",
          "data": {
            "text/plain": [
              "1.8133987185215945"
            ]
          },
          "metadata": {},
          "execution_count": 70
        }
      ]
    },
    {
      "cell_type": "code",
      "source": [
        "0.6931 * (1-0.5) ** (-0.5) # [0.5, 0.5]"
      ],
      "metadata": {
        "id": "8-tSmUDXKLGM",
        "outputId": "42bec57d-8cfd-436a-89cb-12c7a7550e8d",
        "colab": {
          "base_uri": "https://localhost:8080/"
        }
      },
      "execution_count": 71,
      "outputs": [
        {
          "output_type": "execute_result",
          "data": {
            "text/plain": [
              "0.9801914200807923"
            ]
          },
          "metadata": {},
          "execution_count": 71
        }
      ]
    },
    {
      "cell_type": "code",
      "source": [],
      "metadata": {
        "id": "_rSIu162KYX4"
      },
      "execution_count": null,
      "outputs": []
    },
    {
      "cell_type": "code",
      "source": [
        "np.log(0.7)* (-0.7) + np.log(0.3)*(-0.3)"
      ],
      "metadata": {
        "id": "cQUXZzm_FTeV",
        "outputId": "06395940-8511-4008-b140-878fc393aec4",
        "colab": {
          "base_uri": "https://localhost:8080/"
        }
      },
      "execution_count": 26,
      "outputs": [
        {
          "output_type": "execute_result",
          "data": {
            "text/plain": [
              "0.6108643020548935"
            ]
          },
          "metadata": {},
          "execution_count": 26
        }
      ]
    },
    {
      "cell_type": "code",
      "source": [
        "np.log(0.7)* (-0.7),  -np.log(0.7)* (1-0.7)**(0.5)"
      ],
      "metadata": {
        "id": "9GZ5uyjMGOcL",
        "outputId": "bc78fe60-ef4c-42a5-f563-64f2daa0cd13",
        "colab": {
          "base_uri": "https://localhost:8080/"
        }
      },
      "execution_count": 49,
      "outputs": [
        {
          "output_type": "execute_result",
          "data": {
            "text/plain": [
              "(0.2496724607571127, 0.1953589124921343)"
            ]
          },
          "metadata": {},
          "execution_count": 49
        }
      ]
    },
    {
      "cell_type": "code",
      "source": [
        "np.log(0.3)*(-0.3), -np.log(0.3)*(1-0.3)**(0.5)"
      ],
      "metadata": {
        "id": "x9Ixc4-jG-qP",
        "outputId": "79aa2830-9a5e-42fd-8b58-71a25c1e0b8a",
        "colab": {
          "base_uri": "https://localhost:8080/"
        }
      },
      "execution_count": 50,
      "outputs": [
        {
          "output_type": "execute_result",
          "data": {
            "text/plain": [
              "(0.3611918412977808, 1.007315918413643)"
            ]
          },
          "metadata": {},
          "execution_count": 50
        }
      ]
    },
    {
      "cell_type": "code",
      "source": [
        "np.log(0.7)* (-0.7) + np.log(0.3)*(-0.3)"
      ],
      "metadata": {
        "id": "32pA-rrhHD7a",
        "outputId": "cb8ed299-48cd-4f3c-8265-a227df8f513f",
        "colab": {
          "base_uri": "https://localhost:8080/"
        }
      },
      "execution_count": 51,
      "outputs": [
        {
          "output_type": "execute_result",
          "data": {
            "text/plain": [
              "0.6108643020548935"
            ]
          },
          "metadata": {},
          "execution_count": 51
        }
      ]
    },
    {
      "cell_type": "code",
      "source": [
        "-np.log(0.7)* (1-0.7)**(0.5) + (-np.log(0.3)*(1-0.3)**(0.5))"
      ],
      "metadata": {
        "id": "-ZSRn-bFHS-s",
        "outputId": "828b0e20-199e-4f1c-bd1b-bc6163a0ee0e",
        "colab": {
          "base_uri": "https://localhost:8080/"
        }
      },
      "execution_count": 52,
      "outputs": [
        {
          "output_type": "execute_result",
          "data": {
            "text/plain": [
              "1.2026748309057773"
            ]
          },
          "metadata": {},
          "execution_count": 52
        }
      ]
    },
    {
      "cell_type": "code",
      "source": [],
      "metadata": {
        "id": "iFslkYJUJCB7"
      },
      "execution_count": null,
      "outputs": []
    }
  ]
}