{
  "nbformat": 4,
  "nbformat_minor": 0,
  "metadata": {
    "colab": {
      "provenance": [],
      "include_colab_link": true
    },
    "kernelspec": {
      "name": "python3",
      "display_name": "Python 3"
    },
    "language_info": {
      "name": "python"
    },
    "accelerator": "GPU",
    "gpuClass": "standard"
  },
  "cells": [
    {
      "cell_type": "markdown",
      "metadata": {
        "id": "view-in-github",
        "colab_type": "text"
      },
      "source": [
        "<a href=\"https://colab.research.google.com/github/AoShuang92/PhD_tutorial/blob/main/all_cnn_cifar10.ipynb\" target=\"_parent\"><img src=\"https://colab.research.google.com/assets/colab-badge.svg\" alt=\"Open In Colab\"/></a>"
      ]
    },
    {
      "cell_type": "markdown",
      "source": [
        "# All CNN for CIFAR10\n",
        "src:https://github.com/huyvnphan/PyTorch_CIFAR10/tree/641cac24371b17052b9bb6e56af1c83b5e97cd7f <br>\n",
        "Download Pretrained Weights and Architectures Repository"
      ],
      "metadata": {
        "id": "ArijEDfPzYV3"
      }
    },
    {
      "cell_type": "code",
      "source": [
        "import gdown\n",
        "url = 'https://drive.google.com/uc?id=17fmN8eQdLpq2jIMQ_X0IXDPXfI9oVWgq'\n",
        "gdown.download(url,'state_dicts.zip',quiet=True)\n",
        "!unzip -q state_dicts.zip"
      ],
      "metadata": {
        "id": "IISuJOYWvlGZ"
      },
      "execution_count": null,
      "outputs": []
    },
    {
      "cell_type": "code",
      "source": [
        "!git clone https://github.com/huyvnphan/PyTorch_CIFAR10.git"
      ],
      "metadata": {
        "colab": {
          "base_uri": "https://localhost:8080/"
        },
        "id": "Wit1iGE-yIvo",
        "outputId": "d4099deb-6698-4523-e02a-7f1d63d45b70"
      },
      "execution_count": null,
      "outputs": [
        {
          "output_type": "stream",
          "name": "stdout",
          "text": [
            "Cloning into 'PyTorch_CIFAR10'...\n",
            "remote: Enumerating objects: 690, done.\u001b[K\n",
            "remote: Counting objects: 100% (66/66), done.\u001b[K\n",
            "remote: Compressing objects: 100% (30/30), done.\u001b[K\n",
            "remote: Total 690 (delta 52), reused 36 (delta 36), pack-reused 624\u001b[K\n",
            "Receiving objects: 100% (690/690), 6.58 MiB | 18.66 MiB/s, done.\n",
            "Resolving deltas: 100% (269/269), done.\n"
          ]
        }
      ]
    },
    {
      "cell_type": "code",
      "execution_count": null,
      "metadata": {
        "colab": {
          "base_uri": "https://localhost:8080/"
        },
        "id": "IzGwM7kyu3QC",
        "outputId": "351570f4-2062-4a04-c575-3153d6c8cae7"
      },
      "outputs": [
        {
          "output_type": "stream",
          "name": "stdout",
          "text": [
            "Downloading https://www.cs.toronto.edu/~kriz/cifar-10-python.tar.gz to data/cifar-10-python.tar.gz\n"
          ]
        },
        {
          "output_type": "stream",
          "name": "stderr",
          "text": [
            "100%|██████████| 170498071/170498071 [00:07<00:00, 21782221.42it/s]\n"
          ]
        },
        {
          "output_type": "stream",
          "name": "stdout",
          "text": [
            "Extracting data/cifar-10-python.tar.gz to data\n",
            "densenet121 : 0.9406\n"
          ]
        }
      ],
      "source": [
        "import torch\n",
        "import torch.nn as nn\n",
        "import torch.optim as optim\n",
        "import torch.nn.functional as F\n",
        "import torchvision\n",
        "from torchvision import models\n",
        "import torchvision.transforms as transforms\n",
        "# from PyTorch_CIFAR10.cifar10_models.densenet import densenet121\n",
        "from PyTorch_CIFAR10.cifar10_models.densenet import densenet121, densenet161, densenet169\n",
        "from PyTorch_CIFAR10.cifar10_models.googlenet import googlenet\n",
        "from PyTorch_CIFAR10.cifar10_models.inception import inception_v3\n",
        "from PyTorch_CIFAR10.cifar10_models.mobilenetv2 import mobilenet_v2\n",
        "from PyTorch_CIFAR10.cifar10_models.resnet import resnet18, resnet34, resnet50\n",
        "from PyTorch_CIFAR10.cifar10_models.vgg import vgg11_bn, vgg13_bn, vgg16_bn, vgg19_bn\n",
        "\n",
        "\n",
        "\n",
        "device = 'cuda' if torch.cuda.is_available() else 'cpu'\n",
        "\n",
        "all_classifiers = {\n",
        "    \"vgg11_bn\": vgg11_bn(),\n",
        "    \"vgg13_bn\": vgg13_bn(),\n",
        "    \"vgg16_bn\": vgg16_bn(),\n",
        "    \"vgg19_bn\": vgg19_bn(),\n",
        "    \"resnet18\": resnet18(),\n",
        "    \"resnet34\": resnet34(),\n",
        "    \"resnet50\": resnet50(),\n",
        "    \"densenet121\": densenet121(),\n",
        "    \"densenet161\": densenet161(),\n",
        "    \"densenet169\": densenet169(),\n",
        "    \"mobilenet_v2\": mobilenet_v2(),\n",
        "    \"googlenet\": googlenet(),\n",
        "    \"inception_v3\": inception_v3(),\n",
        "}\n",
        "\n",
        "def test(model, testloader):\n",
        "    model.eval()\n",
        "    correct = 0\n",
        "    total = 0\n",
        "    \n",
        "    with torch.no_grad():\n",
        "        for batch_idx, (inputs, targets) in enumerate(testloader):\n",
        "            inputs, targets = inputs.to(device), targets.to(device)\n",
        "            outputs = model(inputs)\n",
        "            _, predicted = outputs.max(1)\n",
        "            total += targets.size(0)\n",
        "            correct += predicted.eq(targets).sum().item()\n",
        "    return correct / total\n",
        "\n",
        "def main(arch= 'densenet121', num_classes=10, ckpt=None, test_loader=None):\n",
        "    # model = densenet121(num_classes=num_classes)\n",
        "    model = all_classifiers[arch]\n",
        "    model.load_state_dict(torch.load(ckpt))\n",
        "    model.to(device)\n",
        "    acc = test(model, test_loader)\n",
        "    return acc\n",
        "\n",
        "mean_cifar, std_cifar = (0.4914, 0.4822, 0.4465), (0.2471, 0.2435, 0.2616)\n",
        "transform_test = transforms.Compose([transforms.ToTensor(),\n",
        "    transforms.Normalize(mean_cifar, std_cifar),])\n",
        "\n",
        "test_dataset10 = torchvision.datasets.CIFAR10(root='data', train=False, download=True, transform=transform_test)\n",
        "test_loader10 = torch.utils.data.DataLoader(test_dataset10, batch_size=2048, shuffle=False, num_workers=2)\n",
        "\n",
        "arch= 'densenet121'\n",
        "acc = main(arch= arch, num_classes=10, ckpt='state_dicts/densenet121.pt', test_loader=test_loader10)\n",
        "print(arch,':',acc)"
      ]
    },
    {
      "cell_type": "code",
      "source": [
        "pytorch_total_params = sum(p.numel() for p in model.parameters() if p.requires_grad)\n",
        "pytorch_total_params = sum(p.numel() for p in model.parameters())"
      ],
      "metadata": {
        "id": "ULnzDtGfxsJi"
      },
      "execution_count": null,
      "outputs": []
    }
  ]
}