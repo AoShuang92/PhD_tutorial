{
  "nbformat": 4,
  "nbformat_minor": 0,
  "metadata": {
    "colab": {
      "provenance": [],
      "authorship_tag": "ABX9TyNX593vldXGswJGqzddXB1F",
      "include_colab_link": true
    },
    "kernelspec": {
      "name": "python3",
      "display_name": "Python 3"
    },
    "language_info": {
      "name": "python"
    },
    "accelerator": "GPU",
    "gpuClass": "standard"
  },
  "cells": [
    {
      "cell_type": "markdown",
      "metadata": {
        "id": "view-in-github",
        "colab_type": "text"
      },
      "source": [
        "<a href=\"https://colab.research.google.com/github/AoShuang92/PhD_tutorial/blob/main/NLL.ipynb\" target=\"_parent\"><img src=\"https://colab.research.google.com/assets/colab-badge.svg\" alt=\"Open In Colab\"/></a>"
      ]
    },
    {
      "cell_type": "markdown",
      "source": [
        "https://pytorch.org/docs/stable/generated/torch.nn.NLLLoss.html"
      ],
      "metadata": {
        "id": "xiNTq5SXR2HO"
      }
    },
    {
      "cell_type": "code",
      "execution_count": 21,
      "metadata": {
        "colab": {
          "base_uri": "https://localhost:8080/"
        },
        "id": "3I_FjGFdH1Tg",
        "outputId": "1706c94b-c9f1-4188-c7c8-1026e23284fc"
      },
      "outputs": [
        {
          "output_type": "stream",
          "name": "stdout",
          "text": [
            "torch.Size([2, 3])\n",
            "tensor(0.1362)\n"
          ]
        }
      ],
      "source": [
        "import torch\n",
        "import torch.nn as nn\n",
        "\n",
        "m = nn.LogSoftmax(dim=1)\n",
        "loss = nn.NLLLoss()\n",
        "input = torch.tensor([[-0.1, 2.3, 4.5], [0.15, 2.3, -0.6]])\n",
        "target = torch.tensor([2, 1])\n",
        "output = loss(m(input), target)\n",
        "print(output)\n"
      ]
    },
    {
      "cell_type": "code",
      "source": [
        "loss_fn = torch.nn.CrossEntropyLoss()\n",
        "# m = nn.Softmax(dim=1)\n",
        "input = torch.tensor([[-0.1, 2.3, 4.5], [0.15, 2.3, -0.6]])\n",
        "target = torch.tensor([2, 1])\n",
        "output = loss_fn(input, target)\n",
        "print(output)"
      ],
      "metadata": {
        "colab": {
          "base_uri": "https://localhost:8080/"
        },
        "id": "wc72HSV_Dt18",
        "outputId": "aae305dc-592d-4178-a426-8331e7dda291"
      },
      "execution_count": 18,
      "outputs": [
        {
          "output_type": "stream",
          "name": "stdout",
          "text": [
            "torch.Size([2, 3])\n",
            "tensor(0.1362)\n"
          ]
        }
      ]
    },
    {
      "cell_type": "code",
      "source": [
        "loss_fn = torch.nn.BCELoss()\n",
        "sigmoid = torch.nn.Sigmoid()\n",
        "\n",
        "input = torch.tensor([[-0.1, 2.3, 4.5], [0.15, 2.3, -0.6]])\n",
        "print(input.size())\n",
        "target = torch.tensor([[0,0,1], [0, 1, 0]])\n",
        "output = loss_fn(sigmoid(input), target.float())\n",
        "print(output)"
      ],
      "metadata": {
        "colab": {
          "base_uri": "https://localhost:8080/"
        },
        "id": "opwFF_ANBTXT",
        "outputId": "3e2f7b84-e600-4afa-ec17-806538c6708d"
      },
      "execution_count": 19,
      "outputs": [
        {
          "output_type": "stream",
          "name": "stdout",
          "text": [
            "torch.Size([2, 3])\n",
            "tensor(0.7258)\n"
          ]
        }
      ]
    },
    {
      "cell_type": "code",
      "source": [
        "import torch.nn.functional as F\n",
        "\n",
        "loss = nn.NLLLoss()\n",
        "input = torch.tensor([[-0.1, 2.3, 4.5], [0.15, 2.3, -0.6]])\n",
        "target = torch.tensor([2, 1])\n",
        "output = loss(input, target)\n",
        "print(output)\n"
      ],
      "metadata": {
        "colab": {
          "base_uri": "https://localhost:8080/"
        },
        "id": "io8HIC6cJO2c",
        "outputId": "2e74e5c1-1658-4614-b674-e3160e06d046"
      },
      "execution_count": 20,
      "outputs": [
        {
          "output_type": "stream",
          "name": "stdout",
          "text": [
            "torch.Size([2, 3])\n",
            "tensor(-3.4000)\n"
          ]
        }
      ]
    },
    {
      "cell_type": "code",
      "source": [
        "F.softmax(input, dim=1)"
      ],
      "metadata": {
        "colab": {
          "base_uri": "https://localhost:8080/"
        },
        "id": "vvazYnLwIOi-",
        "outputId": "911c6d0c-345a-47ff-c5d5-bfcbc2dedd65"
      },
      "execution_count": 3,
      "outputs": [
        {
          "output_type": "execute_result",
          "data": {
            "text/plain": [
              "tensor([[0.0090, 0.0989, 0.8922],\n",
              "        [0.0994, 0.8536, 0.0470]])"
            ]
          },
          "metadata": {},
          "execution_count": 3
        }
      ]
    }
  ]
}