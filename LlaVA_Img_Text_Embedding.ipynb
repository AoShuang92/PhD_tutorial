{
  "nbformat": 4,
  "nbformat_minor": 0,
  "metadata": {
    "colab": {
      "provenance": [],
      "gpuType": "T4",
      "include_colab_link": true
    },
    "kernelspec": {
      "name": "python3",
      "display_name": "Python 3"
    },
    "language_info": {
      "name": "python"
    },
    "accelerator": "GPU",
    "widgets": {
      "application/vnd.jupyter.widget-state+json": {
        "bcf4f54b243f4c1bbcf1c7d3da165513": {
          "model_module": "@jupyter-widgets/controls",
          "model_name": "HBoxModel",
          "model_module_version": "1.5.0",
          "state": {
            "_dom_classes": [],
            "_model_module": "@jupyter-widgets/controls",
            "_model_module_version": "1.5.0",
            "_model_name": "HBoxModel",
            "_view_count": null,
            "_view_module": "@jupyter-widgets/controls",
            "_view_module_version": "1.5.0",
            "_view_name": "HBoxView",
            "box_style": "",
            "children": [
              "IPY_MODEL_a7992117687248508939bbef85e8da18",
              "IPY_MODEL_75bdbf55c3c244dab3ec4b5664afd3ef",
              "IPY_MODEL_b60bff7725314bf38e11d875bfaa34d8"
            ],
            "layout": "IPY_MODEL_51e666f5e2a54992b18e747b7e02664f"
          }
        },
        "a7992117687248508939bbef85e8da18": {
          "model_module": "@jupyter-widgets/controls",
          "model_name": "HTMLModel",
          "model_module_version": "1.5.0",
          "state": {
            "_dom_classes": [],
            "_model_module": "@jupyter-widgets/controls",
            "_model_module_version": "1.5.0",
            "_model_name": "HTMLModel",
            "_view_count": null,
            "_view_module": "@jupyter-widgets/controls",
            "_view_module_version": "1.5.0",
            "_view_name": "HTMLView",
            "description": "",
            "description_tooltip": null,
            "layout": "IPY_MODEL_96ad1ec081844bb38d960fa8ec0c5d9c",
            "placeholder": "​",
            "style": "IPY_MODEL_da02fddf785a4dcea7f8c19f4dce07ce",
            "value": "Loading checkpoint shards: 100%"
          }
        },
        "75bdbf55c3c244dab3ec4b5664afd3ef": {
          "model_module": "@jupyter-widgets/controls",
          "model_name": "FloatProgressModel",
          "model_module_version": "1.5.0",
          "state": {
            "_dom_classes": [],
            "_model_module": "@jupyter-widgets/controls",
            "_model_module_version": "1.5.0",
            "_model_name": "FloatProgressModel",
            "_view_count": null,
            "_view_module": "@jupyter-widgets/controls",
            "_view_module_version": "1.5.0",
            "_view_name": "ProgressView",
            "bar_style": "success",
            "description": "",
            "description_tooltip": null,
            "layout": "IPY_MODEL_5b34c2ed2e834da083e331db12471ec3",
            "max": 3,
            "min": 0,
            "orientation": "horizontal",
            "style": "IPY_MODEL_74167bcb364646c4b281231d2709a6d3",
            "value": 3
          }
        },
        "b60bff7725314bf38e11d875bfaa34d8": {
          "model_module": "@jupyter-widgets/controls",
          "model_name": "HTMLModel",
          "model_module_version": "1.5.0",
          "state": {
            "_dom_classes": [],
            "_model_module": "@jupyter-widgets/controls",
            "_model_module_version": "1.5.0",
            "_model_name": "HTMLModel",
            "_view_count": null,
            "_view_module": "@jupyter-widgets/controls",
            "_view_module_version": "1.5.0",
            "_view_name": "HTMLView",
            "description": "",
            "description_tooltip": null,
            "layout": "IPY_MODEL_91ef2eb351824761a695785085fc3d10",
            "placeholder": "​",
            "style": "IPY_MODEL_44acde27cbee4e7d9835064546475782",
            "value": " 3/3 [01:08&lt;00:00, 22.29s/it]"
          }
        },
        "51e666f5e2a54992b18e747b7e02664f": {
          "model_module": "@jupyter-widgets/base",
          "model_name": "LayoutModel",
          "model_module_version": "1.2.0",
          "state": {
            "_model_module": "@jupyter-widgets/base",
            "_model_module_version": "1.2.0",
            "_model_name": "LayoutModel",
            "_view_count": null,
            "_view_module": "@jupyter-widgets/base",
            "_view_module_version": "1.2.0",
            "_view_name": "LayoutView",
            "align_content": null,
            "align_items": null,
            "align_self": null,
            "border": null,
            "bottom": null,
            "display": null,
            "flex": null,
            "flex_flow": null,
            "grid_area": null,
            "grid_auto_columns": null,
            "grid_auto_flow": null,
            "grid_auto_rows": null,
            "grid_column": null,
            "grid_gap": null,
            "grid_row": null,
            "grid_template_areas": null,
            "grid_template_columns": null,
            "grid_template_rows": null,
            "height": null,
            "justify_content": null,
            "justify_items": null,
            "left": null,
            "margin": null,
            "max_height": null,
            "max_width": null,
            "min_height": null,
            "min_width": null,
            "object_fit": null,
            "object_position": null,
            "order": null,
            "overflow": null,
            "overflow_x": null,
            "overflow_y": null,
            "padding": null,
            "right": null,
            "top": null,
            "visibility": null,
            "width": null
          }
        },
        "96ad1ec081844bb38d960fa8ec0c5d9c": {
          "model_module": "@jupyter-widgets/base",
          "model_name": "LayoutModel",
          "model_module_version": "1.2.0",
          "state": {
            "_model_module": "@jupyter-widgets/base",
            "_model_module_version": "1.2.0",
            "_model_name": "LayoutModel",
            "_view_count": null,
            "_view_module": "@jupyter-widgets/base",
            "_view_module_version": "1.2.0",
            "_view_name": "LayoutView",
            "align_content": null,
            "align_items": null,
            "align_self": null,
            "border": null,
            "bottom": null,
            "display": null,
            "flex": null,
            "flex_flow": null,
            "grid_area": null,
            "grid_auto_columns": null,
            "grid_auto_flow": null,
            "grid_auto_rows": null,
            "grid_column": null,
            "grid_gap": null,
            "grid_row": null,
            "grid_template_areas": null,
            "grid_template_columns": null,
            "grid_template_rows": null,
            "height": null,
            "justify_content": null,
            "justify_items": null,
            "left": null,
            "margin": null,
            "max_height": null,
            "max_width": null,
            "min_height": null,
            "min_width": null,
            "object_fit": null,
            "object_position": null,
            "order": null,
            "overflow": null,
            "overflow_x": null,
            "overflow_y": null,
            "padding": null,
            "right": null,
            "top": null,
            "visibility": null,
            "width": null
          }
        },
        "da02fddf785a4dcea7f8c19f4dce07ce": {
          "model_module": "@jupyter-widgets/controls",
          "model_name": "DescriptionStyleModel",
          "model_module_version": "1.5.0",
          "state": {
            "_model_module": "@jupyter-widgets/controls",
            "_model_module_version": "1.5.0",
            "_model_name": "DescriptionStyleModel",
            "_view_count": null,
            "_view_module": "@jupyter-widgets/base",
            "_view_module_version": "1.2.0",
            "_view_name": "StyleView",
            "description_width": ""
          }
        },
        "5b34c2ed2e834da083e331db12471ec3": {
          "model_module": "@jupyter-widgets/base",
          "model_name": "LayoutModel",
          "model_module_version": "1.2.0",
          "state": {
            "_model_module": "@jupyter-widgets/base",
            "_model_module_version": "1.2.0",
            "_model_name": "LayoutModel",
            "_view_count": null,
            "_view_module": "@jupyter-widgets/base",
            "_view_module_version": "1.2.0",
            "_view_name": "LayoutView",
            "align_content": null,
            "align_items": null,
            "align_self": null,
            "border": null,
            "bottom": null,
            "display": null,
            "flex": null,
            "flex_flow": null,
            "grid_area": null,
            "grid_auto_columns": null,
            "grid_auto_flow": null,
            "grid_auto_rows": null,
            "grid_column": null,
            "grid_gap": null,
            "grid_row": null,
            "grid_template_areas": null,
            "grid_template_columns": null,
            "grid_template_rows": null,
            "height": null,
            "justify_content": null,
            "justify_items": null,
            "left": null,
            "margin": null,
            "max_height": null,
            "max_width": null,
            "min_height": null,
            "min_width": null,
            "object_fit": null,
            "object_position": null,
            "order": null,
            "overflow": null,
            "overflow_x": null,
            "overflow_y": null,
            "padding": null,
            "right": null,
            "top": null,
            "visibility": null,
            "width": null
          }
        },
        "74167bcb364646c4b281231d2709a6d3": {
          "model_module": "@jupyter-widgets/controls",
          "model_name": "ProgressStyleModel",
          "model_module_version": "1.5.0",
          "state": {
            "_model_module": "@jupyter-widgets/controls",
            "_model_module_version": "1.5.0",
            "_model_name": "ProgressStyleModel",
            "_view_count": null,
            "_view_module": "@jupyter-widgets/base",
            "_view_module_version": "1.2.0",
            "_view_name": "StyleView",
            "bar_color": null,
            "description_width": ""
          }
        },
        "91ef2eb351824761a695785085fc3d10": {
          "model_module": "@jupyter-widgets/base",
          "model_name": "LayoutModel",
          "model_module_version": "1.2.0",
          "state": {
            "_model_module": "@jupyter-widgets/base",
            "_model_module_version": "1.2.0",
            "_model_name": "LayoutModel",
            "_view_count": null,
            "_view_module": "@jupyter-widgets/base",
            "_view_module_version": "1.2.0",
            "_view_name": "LayoutView",
            "align_content": null,
            "align_items": null,
            "align_self": null,
            "border": null,
            "bottom": null,
            "display": null,
            "flex": null,
            "flex_flow": null,
            "grid_area": null,
            "grid_auto_columns": null,
            "grid_auto_flow": null,
            "grid_auto_rows": null,
            "grid_column": null,
            "grid_gap": null,
            "grid_row": null,
            "grid_template_areas": null,
            "grid_template_columns": null,
            "grid_template_rows": null,
            "height": null,
            "justify_content": null,
            "justify_items": null,
            "left": null,
            "margin": null,
            "max_height": null,
            "max_width": null,
            "min_height": null,
            "min_width": null,
            "object_fit": null,
            "object_position": null,
            "order": null,
            "overflow": null,
            "overflow_x": null,
            "overflow_y": null,
            "padding": null,
            "right": null,
            "top": null,
            "visibility": null,
            "width": null
          }
        },
        "44acde27cbee4e7d9835064546475782": {
          "model_module": "@jupyter-widgets/controls",
          "model_name": "DescriptionStyleModel",
          "model_module_version": "1.5.0",
          "state": {
            "_model_module": "@jupyter-widgets/controls",
            "_model_module_version": "1.5.0",
            "_model_name": "DescriptionStyleModel",
            "_view_count": null,
            "_view_module": "@jupyter-widgets/base",
            "_view_module_version": "1.2.0",
            "_view_name": "StyleView",
            "description_width": ""
          }
        },
        "24f98afc5e00448c99715c61eced19a2": {
          "model_module": "@jupyter-widgets/controls",
          "model_name": "HBoxModel",
          "model_module_version": "1.5.0",
          "state": {
            "_dom_classes": [],
            "_model_module": "@jupyter-widgets/controls",
            "_model_module_version": "1.5.0",
            "_model_name": "HBoxModel",
            "_view_count": null,
            "_view_module": "@jupyter-widgets/controls",
            "_view_module_version": "1.5.0",
            "_view_name": "HBoxView",
            "box_style": "",
            "children": [
              "IPY_MODEL_1f9912527c924c44af6083494f663d9b",
              "IPY_MODEL_a7c9919a5fc645dfabdcdb532f1766a3",
              "IPY_MODEL_aa681360194d4cc894f258211684ad27"
            ],
            "layout": "IPY_MODEL_fe3dc67ff4fd400cb1ee15b697f23693"
          }
        },
        "1f9912527c924c44af6083494f663d9b": {
          "model_module": "@jupyter-widgets/controls",
          "model_name": "HTMLModel",
          "model_module_version": "1.5.0",
          "state": {
            "_dom_classes": [],
            "_model_module": "@jupyter-widgets/controls",
            "_model_module_version": "1.5.0",
            "_model_name": "HTMLModel",
            "_view_count": null,
            "_view_module": "@jupyter-widgets/controls",
            "_view_module_version": "1.5.0",
            "_view_name": "HTMLView",
            "description": "",
            "description_tooltip": null,
            "layout": "IPY_MODEL_f25ad2c74c3a4bf4979438d73698bb28",
            "placeholder": "​",
            "style": "IPY_MODEL_b19595bfee2a40159f6279f06c8d5ba3",
            "value": "Loading checkpoint shards: 100%"
          }
        },
        "a7c9919a5fc645dfabdcdb532f1766a3": {
          "model_module": "@jupyter-widgets/controls",
          "model_name": "FloatProgressModel",
          "model_module_version": "1.5.0",
          "state": {
            "_dom_classes": [],
            "_model_module": "@jupyter-widgets/controls",
            "_model_module_version": "1.5.0",
            "_model_name": "FloatProgressModel",
            "_view_count": null,
            "_view_module": "@jupyter-widgets/controls",
            "_view_module_version": "1.5.0",
            "_view_name": "ProgressView",
            "bar_style": "success",
            "description": "",
            "description_tooltip": null,
            "layout": "IPY_MODEL_a17476e334de4f34abec007e31bcbf28",
            "max": 3,
            "min": 0,
            "orientation": "horizontal",
            "style": "IPY_MODEL_aaf468b7fa8e46c99deb208aa240a751",
            "value": 3
          }
        },
        "aa681360194d4cc894f258211684ad27": {
          "model_module": "@jupyter-widgets/controls",
          "model_name": "HTMLModel",
          "model_module_version": "1.5.0",
          "state": {
            "_dom_classes": [],
            "_model_module": "@jupyter-widgets/controls",
            "_model_module_version": "1.5.0",
            "_model_name": "HTMLModel",
            "_view_count": null,
            "_view_module": "@jupyter-widgets/controls",
            "_view_module_version": "1.5.0",
            "_view_name": "HTMLView",
            "description": "",
            "description_tooltip": null,
            "layout": "IPY_MODEL_c24b781a241746f6a174b0e415356056",
            "placeholder": "​",
            "style": "IPY_MODEL_cbb8687953b5410dabec655f6860e55b",
            "value": " 3/3 [01:09&lt;00:00, 22.56s/it]"
          }
        },
        "fe3dc67ff4fd400cb1ee15b697f23693": {
          "model_module": "@jupyter-widgets/base",
          "model_name": "LayoutModel",
          "model_module_version": "1.2.0",
          "state": {
            "_model_module": "@jupyter-widgets/base",
            "_model_module_version": "1.2.0",
            "_model_name": "LayoutModel",
            "_view_count": null,
            "_view_module": "@jupyter-widgets/base",
            "_view_module_version": "1.2.0",
            "_view_name": "LayoutView",
            "align_content": null,
            "align_items": null,
            "align_self": null,
            "border": null,
            "bottom": null,
            "display": null,
            "flex": null,
            "flex_flow": null,
            "grid_area": null,
            "grid_auto_columns": null,
            "grid_auto_flow": null,
            "grid_auto_rows": null,
            "grid_column": null,
            "grid_gap": null,
            "grid_row": null,
            "grid_template_areas": null,
            "grid_template_columns": null,
            "grid_template_rows": null,
            "height": null,
            "justify_content": null,
            "justify_items": null,
            "left": null,
            "margin": null,
            "max_height": null,
            "max_width": null,
            "min_height": null,
            "min_width": null,
            "object_fit": null,
            "object_position": null,
            "order": null,
            "overflow": null,
            "overflow_x": null,
            "overflow_y": null,
            "padding": null,
            "right": null,
            "top": null,
            "visibility": null,
            "width": null
          }
        },
        "f25ad2c74c3a4bf4979438d73698bb28": {
          "model_module": "@jupyter-widgets/base",
          "model_name": "LayoutModel",
          "model_module_version": "1.2.0",
          "state": {
            "_model_module": "@jupyter-widgets/base",
            "_model_module_version": "1.2.0",
            "_model_name": "LayoutModel",
            "_view_count": null,
            "_view_module": "@jupyter-widgets/base",
            "_view_module_version": "1.2.0",
            "_view_name": "LayoutView",
            "align_content": null,
            "align_items": null,
            "align_self": null,
            "border": null,
            "bottom": null,
            "display": null,
            "flex": null,
            "flex_flow": null,
            "grid_area": null,
            "grid_auto_columns": null,
            "grid_auto_flow": null,
            "grid_auto_rows": null,
            "grid_column": null,
            "grid_gap": null,
            "grid_row": null,
            "grid_template_areas": null,
            "grid_template_columns": null,
            "grid_template_rows": null,
            "height": null,
            "justify_content": null,
            "justify_items": null,
            "left": null,
            "margin": null,
            "max_height": null,
            "max_width": null,
            "min_height": null,
            "min_width": null,
            "object_fit": null,
            "object_position": null,
            "order": null,
            "overflow": null,
            "overflow_x": null,
            "overflow_y": null,
            "padding": null,
            "right": null,
            "top": null,
            "visibility": null,
            "width": null
          }
        },
        "b19595bfee2a40159f6279f06c8d5ba3": {
          "model_module": "@jupyter-widgets/controls",
          "model_name": "DescriptionStyleModel",
          "model_module_version": "1.5.0",
          "state": {
            "_model_module": "@jupyter-widgets/controls",
            "_model_module_version": "1.5.0",
            "_model_name": "DescriptionStyleModel",
            "_view_count": null,
            "_view_module": "@jupyter-widgets/base",
            "_view_module_version": "1.2.0",
            "_view_name": "StyleView",
            "description_width": ""
          }
        },
        "a17476e334de4f34abec007e31bcbf28": {
          "model_module": "@jupyter-widgets/base",
          "model_name": "LayoutModel",
          "model_module_version": "1.2.0",
          "state": {
            "_model_module": "@jupyter-widgets/base",
            "_model_module_version": "1.2.0",
            "_model_name": "LayoutModel",
            "_view_count": null,
            "_view_module": "@jupyter-widgets/base",
            "_view_module_version": "1.2.0",
            "_view_name": "LayoutView",
            "align_content": null,
            "align_items": null,
            "align_self": null,
            "border": null,
            "bottom": null,
            "display": null,
            "flex": null,
            "flex_flow": null,
            "grid_area": null,
            "grid_auto_columns": null,
            "grid_auto_flow": null,
            "grid_auto_rows": null,
            "grid_column": null,
            "grid_gap": null,
            "grid_row": null,
            "grid_template_areas": null,
            "grid_template_columns": null,
            "grid_template_rows": null,
            "height": null,
            "justify_content": null,
            "justify_items": null,
            "left": null,
            "margin": null,
            "max_height": null,
            "max_width": null,
            "min_height": null,
            "min_width": null,
            "object_fit": null,
            "object_position": null,
            "order": null,
            "overflow": null,
            "overflow_x": null,
            "overflow_y": null,
            "padding": null,
            "right": null,
            "top": null,
            "visibility": null,
            "width": null
          }
        },
        "aaf468b7fa8e46c99deb208aa240a751": {
          "model_module": "@jupyter-widgets/controls",
          "model_name": "ProgressStyleModel",
          "model_module_version": "1.5.0",
          "state": {
            "_model_module": "@jupyter-widgets/controls",
            "_model_module_version": "1.5.0",
            "_model_name": "ProgressStyleModel",
            "_view_count": null,
            "_view_module": "@jupyter-widgets/base",
            "_view_module_version": "1.2.0",
            "_view_name": "StyleView",
            "bar_color": null,
            "description_width": ""
          }
        },
        "c24b781a241746f6a174b0e415356056": {
          "model_module": "@jupyter-widgets/base",
          "model_name": "LayoutModel",
          "model_module_version": "1.2.0",
          "state": {
            "_model_module": "@jupyter-widgets/base",
            "_model_module_version": "1.2.0",
            "_model_name": "LayoutModel",
            "_view_count": null,
            "_view_module": "@jupyter-widgets/base",
            "_view_module_version": "1.2.0",
            "_view_name": "LayoutView",
            "align_content": null,
            "align_items": null,
            "align_self": null,
            "border": null,
            "bottom": null,
            "display": null,
            "flex": null,
            "flex_flow": null,
            "grid_area": null,
            "grid_auto_columns": null,
            "grid_auto_flow": null,
            "grid_auto_rows": null,
            "grid_column": null,
            "grid_gap": null,
            "grid_row": null,
            "grid_template_areas": null,
            "grid_template_columns": null,
            "grid_template_rows": null,
            "height": null,
            "justify_content": null,
            "justify_items": null,
            "left": null,
            "margin": null,
            "max_height": null,
            "max_width": null,
            "min_height": null,
            "min_width": null,
            "object_fit": null,
            "object_position": null,
            "order": null,
            "overflow": null,
            "overflow_x": null,
            "overflow_y": null,
            "padding": null,
            "right": null,
            "top": null,
            "visibility": null,
            "width": null
          }
        },
        "cbb8687953b5410dabec655f6860e55b": {
          "model_module": "@jupyter-widgets/controls",
          "model_name": "DescriptionStyleModel",
          "model_module_version": "1.5.0",
          "state": {
            "_model_module": "@jupyter-widgets/controls",
            "_model_module_version": "1.5.0",
            "_model_name": "DescriptionStyleModel",
            "_view_count": null,
            "_view_module": "@jupyter-widgets/base",
            "_view_module_version": "1.2.0",
            "_view_name": "StyleView",
            "description_width": ""
          }
        }
      }
    }
  },
  "cells": [
    {
      "cell_type": "markdown",
      "metadata": {
        "id": "view-in-github",
        "colab_type": "text"
      },
      "source": [
        "<a href=\"https://colab.research.google.com/github/AoShuang92/PhD_tutorial/blob/main/LlaVA_Img_Text_Embedding.ipynb\" target=\"_parent\"><img src=\"https://colab.research.google.com/assets/colab-badge.svg\" alt=\"Open In Colab\"/></a>"
      ]
    },
    {
      "cell_type": "code",
      "execution_count": null,
      "metadata": {
        "colab": {
          "base_uri": "https://localhost:8080/"
        },
        "id": "avBIFHtOyIMe",
        "outputId": "681373ce-9e91-464f-e717-ca0475a2b54c"
      },
      "outputs": [
        {
          "output_type": "stream",
          "name": "stdout",
          "text": [
            "\u001b[2K     \u001b[90m━━━━━━━━━━━━━━━━━━━━━━━━━━━━━━━━━━━━━━━━\u001b[0m \u001b[32m126.8/126.8 kB\u001b[0m \u001b[31m3.5 MB/s\u001b[0m eta \u001b[36m0:00:00\u001b[0m\n",
            "\u001b[2K   \u001b[90m━━━━━━━━━━━━━━━━━━━━━━━━━━━━━━━━━━━━━━━━\u001b[0m \u001b[32m8.2/8.2 MB\u001b[0m \u001b[31m30.1 MB/s\u001b[0m eta \u001b[36m0:00:00\u001b[0m\n",
            "\u001b[2K   \u001b[90m━━━━━━━━━━━━━━━━━━━━━━━━━━━━━━━━━━━━━━━━\u001b[0m \u001b[32m3.6/3.6 MB\u001b[0m \u001b[31m18.3 MB/s\u001b[0m eta \u001b[36m0:00:00\u001b[0m\n",
            "\u001b[2K   \u001b[90m━━━━━━━━━━━━━━━━━━━━━━━━━━━━━━━━━━━━━━━━\u001b[0m \u001b[32m92.6/92.6 MB\u001b[0m \u001b[31m8.1 MB/s\u001b[0m eta \u001b[36m0:00:00\u001b[0m\n",
            "\u001b[2K   \u001b[90m━━━━━━━━━━━━━━━━━━━━━━━━━━━━━━━━━━━━━━━━\u001b[0m \u001b[32m265.7/265.7 kB\u001b[0m \u001b[31m12.6 MB/s\u001b[0m eta \u001b[36m0:00:00\u001b[0m\n",
            "\u001b[?25h"
          ]
        }
      ],
      "source": [
        "!pip install -q transformers==4.36.0\n",
        "!pip install -q bitsandbytes==0.41.3 accelerate==0.25.0"
      ]
    },
    {
      "cell_type": "code",
      "source": [
        "import torch\n",
        "import torch.nn as nn\n",
        "from transformers import AutoProcessor, LlavaForConditionalGeneration, BitsAndBytesConfig\n",
        "from PIL import Image\n",
        "import requests\n",
        "import torch.nn.functional as F\n",
        "from typing import List, Optional, Tuple, Union\n",
        "\n",
        "class LlaVA_Img_Text_Embedding(nn.Module):\n",
        "    def __init__(self, ):\n",
        "        super(LlaVA_Img_Text_Embedding, self).__init__()\n",
        "        kwargs = {\"device_map\": \"auto\"}\n",
        "        kwargs['load_in_4bit'] = True\n",
        "        kwargs['quantization_config'] = BitsAndBytesConfig(\n",
        "            load_in_4bit=True,\n",
        "            bnb_4bit_compute_dtype=torch.float16,\n",
        "            bnb_4bit_use_double_quant=True,\n",
        "            bnb_4bit_quant_type='nf4'\n",
        "        )\n",
        "        self.model_llava = LlavaForConditionalGeneration.from_pretrained(\"llava-hf/llava-1.5-7b-hf\",**kwargs)\n",
        "        self.get_input_embeddings = self.model_llava.get_input_embeddings\n",
        "        self.vision_tower = self.model_llava.vision_tower\n",
        "        self.multi_modal_projector = self.model_llava.multi_modal_projector\n",
        "        self._merge_input_ids_with_image_features = self.model_llava._merge_input_ids_with_image_features\n",
        "\n",
        "    def forward(\n",
        "            self,\n",
        "            input_ids: torch.LongTensor = None,\n",
        "            pixel_values: torch.FloatTensor = None,\n",
        "            attention_mask: Optional[torch.Tensor] = None,\n",
        "            position_ids: Optional[torch.LongTensor] = None,\n",
        "\n",
        "        ):\n",
        "        vision_feature_select_strategy = \"default\"\n",
        "        # 1. Extra the input embeddings\n",
        "        inputs_embeds = self.get_input_embeddings()(input_ids)\n",
        "        # 2. Merge text and images\n",
        "        if pixel_values is not None and input_ids.shape[1] != 1:\n",
        "            selected_image_feature = self.vision_tower(pixel_values).last_hidden_state\n",
        "\n",
        "            if vision_feature_select_strategy == \"default\":\n",
        "                selected_image_feature = selected_image_feature[:, 1:]\n",
        "            elif vision_feature_select_strategy == \"full\":\n",
        "                selected_image_feature = selected_image_feature\n",
        "            else:\n",
        "                raise ValueError(\n",
        "                    f\"Unexpected select feature strategy: {self.config.vision_feature_select_strategy}\"\n",
        "                )\n",
        "\n",
        "            image_features = self.multi_modal_projector(selected_image_feature)\n",
        "\n",
        "            print('image_features:', image_features.shape, 'text input_ids:', input_ids.shape, input_ids)\n",
        "            inputs_embeds, attention_mask, position_ids = self._merge_input_ids_with_image_features(\n",
        "                image_features, inputs_embeds, input_ids, attention_mask, position_ids\n",
        "            )\n",
        "\n",
        "\n",
        "        return inputs_embeds, attention_mask, position_ids\n",
        "\n",
        "prompt = \"<image>\\nUSER: What's the content of the image?\\nASSISTANT:\"\n",
        "url = \"https://www.ilankelman.org/stopsigns/australia.jpg\"\n",
        "image = Image.open(requests.get(url, stream=True).raw)\n",
        "processor = AutoProcessor.from_pretrained(\"llava-hf/llava-1.5-7b-hf\")\n",
        "inputs = processor(text=prompt, images=image, return_tensors=\"pt\")\n",
        "# inputs['input_ids'] = inputs['input_ids'].cuda()\n",
        "for key, val in inputs.items():\n",
        "    inputs[key] = val.cuda()\n",
        "\n",
        "img_text_embeder = LlaVA_Img_Text_Embedding().cuda()\n",
        "inputs_embeds, attention_mask, position_ids = img_text_embeder(**inputs)\n",
        "\n",
        "print(inputs_embeds.shape)\n"
      ],
      "metadata": {
        "colab": {
          "base_uri": "https://localhost:8080/",
          "height": 156,
          "referenced_widgets": [
            "bcf4f54b243f4c1bbcf1c7d3da165513",
            "a7992117687248508939bbef85e8da18",
            "75bdbf55c3c244dab3ec4b5664afd3ef",
            "b60bff7725314bf38e11d875bfaa34d8",
            "51e666f5e2a54992b18e747b7e02664f",
            "96ad1ec081844bb38d960fa8ec0c5d9c",
            "da02fddf785a4dcea7f8c19f4dce07ce",
            "5b34c2ed2e834da083e331db12471ec3",
            "74167bcb364646c4b281231d2709a6d3",
            "91ef2eb351824761a695785085fc3d10",
            "44acde27cbee4e7d9835064546475782"
          ]
        },
        "id": "j_g8QIf9yQi4",
        "outputId": "19812179-12ab-43a9-c5b4-a381516ab7d1"
      },
      "execution_count": null,
      "outputs": [
        {
          "output_type": "stream",
          "name": "stderr",
          "text": [
            "/usr/local/lib/python3.10/dist-packages/huggingface_hub/file_download.py:1150: FutureWarning: `resume_download` is deprecated and will be removed in version 1.0.0. Downloads always resume when possible. If you want to force a new download, use `force_download=True`.\n",
            "  warnings.warn(\n",
            "Special tokens have been added in the vocabulary, make sure the associated word embeddings are fine-tuned or trained.\n"
          ]
        },
        {
          "output_type": "display_data",
          "data": {
            "text/plain": [
              "Loading checkpoint shards:   0%|          | 0/3 [00:00<?, ?it/s]"
            ],
            "application/vnd.jupyter.widget-view+json": {
              "version_major": 2,
              "version_minor": 0,
              "model_id": "bcf4f54b243f4c1bbcf1c7d3da165513"
            }
          },
          "metadata": {}
        },
        {
          "output_type": "stream",
          "name": "stdout",
          "text": [
            "image_features: torch.Size([1, 576, 4096]) text input_ids: torch.Size([1, 20])\n",
            "torch.Size([1, 595, 4096])\n"
          ]
        }
      ]
    },
    {
      "cell_type": "code",
      "source": [
        "inputs_embeds"
      ],
      "metadata": {
        "id": "KQv1_OP7zd9v",
        "outputId": "ab7d2d2d-67cd-4ee7-81f4-880d23f5e264",
        "colab": {
          "base_uri": "https://localhost:8080/"
        }
      },
      "execution_count": null,
      "outputs": [
        {
          "output_type": "execute_result",
          "data": {
            "text/plain": [
              "tensor([[[ 0.0045, -0.0038,  0.0017,  ..., -0.0088,  0.0025, -0.0025],\n",
              "         [ 0.0718,  0.7710, -0.4734,  ..., -0.2423,  0.6743, -0.1895],\n",
              "         [ 0.5903,  0.4768, -0.6670,  ..., -0.4971,  0.5259, -0.3545],\n",
              "         ...,\n",
              "         [-0.0187, -0.0017,  0.0177,  ...,  0.0238,  0.0052,  0.0101],\n",
              "         [ 0.0066, -0.0161,  0.0117,  ..., -0.0103,  0.0148,  0.0073],\n",
              "         [ 0.0039,  0.0015,  0.0055,  ..., -0.0042,  0.0151,  0.0024]]],\n",
              "       device='cuda:0', dtype=torch.float16, grad_fn=<IndexPutBackward0>)"
            ]
          },
          "metadata": {},
          "execution_count": 3
        }
      ]
    },
    {
      "cell_type": "code",
      "source": [
        "kwargs = {\"device_map\": \"auto\"}\n",
        "kwargs['load_in_4bit'] = True\n",
        "kwargs['quantization_config'] = BitsAndBytesConfig(\n",
        "    load_in_4bit=True,\n",
        "    bnb_4bit_compute_dtype=torch.float16,\n",
        "    bnb_4bit_use_double_quant=True,\n",
        "    bnb_4bit_quant_type='nf4'\n",
        ")\n",
        "model_llava = LlavaForConditionalGeneration.from_pretrained(\"llava-hf/llava-1.5-7b-hf\",**kwargs)"
      ],
      "metadata": {
        "id": "ZWJC5OhKXkEL",
        "outputId": "2ed63296-07dd-42a1-c7a4-9832a478d148",
        "colab": {
          "base_uri": "https://localhost:8080/",
          "height": 49,
          "referenced_widgets": [
            "24f98afc5e00448c99715c61eced19a2",
            "1f9912527c924c44af6083494f663d9b",
            "a7c9919a5fc645dfabdcdb532f1766a3",
            "aa681360194d4cc894f258211684ad27",
            "fe3dc67ff4fd400cb1ee15b697f23693",
            "f25ad2c74c3a4bf4979438d73698bb28",
            "b19595bfee2a40159f6279f06c8d5ba3",
            "a17476e334de4f34abec007e31bcbf28",
            "aaf468b7fa8e46c99deb208aa240a751",
            "c24b781a241746f6a174b0e415356056",
            "cbb8687953b5410dabec655f6860e55b"
          ]
        }
      },
      "execution_count": null,
      "outputs": [
        {
          "output_type": "display_data",
          "data": {
            "text/plain": [
              "Loading checkpoint shards:   0%|          | 0/3 [00:00<?, ?it/s]"
            ],
            "application/vnd.jupyter.widget-view+json": {
              "version_major": 2,
              "version_minor": 0,
              "model_id": "24f98afc5e00448c99715c61eced19a2"
            }
          },
          "metadata": {}
        }
      ]
    },
    {
      "cell_type": "code",
      "source": [
        "prompt = \"<image>\\nUSER: What's the content of the image?\\nASSISTANT:\"\n",
        "url = \"https://www.ilankelman.org/stopsigns/australia.jpg\"\n",
        "image = Image.open(requests.get(url, stream=True).raw)\n",
        "processor = AutoProcessor.from_pretrained(\"llava-hf/llava-1.5-7b-hf\")\n",
        "inputs = processor(text=prompt, images=image, return_tensors=\"pt\")\n",
        "# inputs['input_ids'] = inputs['input_ids'].cuda()\n",
        "for key, val in inputs.items():\n",
        "    inputs[key] = val.cuda()\n",
        "    print(key)\n",
        "\n",
        "print(inputs['pixel_values'].shape, inputs['input_ids'].shape, inputs['input_ids'])"
      ],
      "metadata": {
        "id": "yFUZpFwRYkp_",
        "outputId": "4294dc8a-cd76-45dc-b6ba-11023230c61e",
        "colab": {
          "base_uri": "https://localhost:8080/"
        }
      },
      "execution_count": null,
      "outputs": [
        {
          "output_type": "stream",
          "name": "stderr",
          "text": [
            "/usr/local/lib/python3.10/dist-packages/huggingface_hub/file_download.py:1150: FutureWarning: `resume_download` is deprecated and will be removed in version 1.0.0. Downloads always resume when possible. If you want to force a new download, use `force_download=True`.\n",
            "  warnings.warn(\n",
            "Special tokens have been added in the vocabulary, make sure the associated word embeddings are fine-tuned or trained.\n"
          ]
        },
        {
          "output_type": "stream",
          "name": "stdout",
          "text": [
            "input_ids\n",
            "attention_mask\n",
            "pixel_values\n",
            "torch.Size([1, 3, 336, 336]) torch.Size([1, 20]) tensor([[    1, 32000, 29871,    13, 11889, 29901,  1724, 29915, 29879,   278,\n",
            "          2793,   310,   278,  1967, 29973,    13, 22933,  9047, 13566, 29901]],\n",
            "       device='cuda:0')\n"
          ]
        }
      ]
    },
    {
      "cell_type": "code",
      "source": [
        "get_input_embeddings = model_llava.get_input_embeddings\n",
        "vision_tower = model_llava.vision_tower\n",
        "multi_modal_projector = model_llava.multi_modal_projector\n",
        "_merge_input_ids_with_image_features = model_llava._merge_input_ids_with_image_features\n",
        "inputs_embeds = get_input_embeddings()(inputs['input_ids'])\n",
        "print(inputs_embeds.shape, inputs_embeds)"
      ],
      "metadata": {
        "id": "qvs7sxA6ZHnW",
        "outputId": "d3a6120b-db7e-48e7-b2f7-40d7d8c5f556",
        "colab": {
          "base_uri": "https://localhost:8080/"
        }
      },
      "execution_count": null,
      "outputs": [
        {
          "output_type": "stream",
          "name": "stdout",
          "text": [
            "torch.Size([1, 20, 4096]) tensor([[[ 0.0045, -0.0038,  0.0017,  ..., -0.0088,  0.0025, -0.0025],\n",
            "         [ 0.0007,  0.0006, -0.0005,  ..., -0.0006, -0.0001, -0.0005],\n",
            "         [-0.0012,  0.0013, -0.0127,  ...,  0.0026, -0.0012, -0.0053],\n",
            "         ...,\n",
            "         [-0.0187, -0.0017,  0.0177,  ...,  0.0238,  0.0052,  0.0101],\n",
            "         [ 0.0066, -0.0161,  0.0117,  ..., -0.0103,  0.0148,  0.0073],\n",
            "         [ 0.0039,  0.0015,  0.0055,  ..., -0.0042,  0.0151,  0.0024]]],\n",
            "       device='cuda:0', dtype=torch.float16, grad_fn=<EmbeddingBackward0>)\n"
          ]
        }
      ]
    },
    {
      "cell_type": "code",
      "source": [
        "selected_image_feature = vision_tower(inputs['pixel_values']).last_hidden_state\n",
        "print(selected_image_feature.shape, selected_image_feature)\n",
        "\n",
        "selected_image_feature = selected_image_feature[:, 1:]\n",
        "print(selected_image_feature.shape, selected_image_feature)"
      ],
      "metadata": {
        "id": "X7Phiz3lZosT",
        "outputId": "d44cd9c2-d5b9-46a9-f041-ce62895c1413",
        "colab": {
          "base_uri": "https://localhost:8080/"
        }
      },
      "execution_count": null,
      "outputs": [
        {
          "output_type": "stream",
          "name": "stdout",
          "text": [
            "torch.Size([1, 577, 1024]) tensor([[[-0.4695, -0.2588, -0.0212,  ..., -0.1227, -0.8413,  0.4075],\n",
            "         [ 0.5752,  1.1084,  0.0914,  ...,  1.5645,  0.1642,  0.9097],\n",
            "         [ 0.2900,  0.3425,  0.7036,  ...,  1.6426, -0.4028,  0.5298],\n",
            "         ...,\n",
            "         [ 1.8662,  1.0088, -0.2004,  ...,  1.8193, -0.8154,  0.8516],\n",
            "         [ 0.3364,  0.2842,  0.9233,  ...,  0.4353,  0.3420, -0.4443],\n",
            "         [ 0.0479,  0.2493,  0.5264,  ...,  0.0032,  0.2112,  0.1550]]],\n",
            "       device='cuda:0', dtype=torch.float16, grad_fn=<AddBackward0>)\n",
            "torch.Size([1, 576, 1024]) tensor([[[ 0.5752,  1.1084,  0.0914,  ...,  1.5645,  0.1642,  0.9097],\n",
            "         [ 0.2900,  0.3425,  0.7036,  ...,  1.6426, -0.4028,  0.5298],\n",
            "         [ 0.4731, -0.1261,  0.5146,  ..., -0.2083,  0.1995, -0.4390],\n",
            "         ...,\n",
            "         [ 1.8662,  1.0088, -0.2004,  ...,  1.8193, -0.8154,  0.8516],\n",
            "         [ 0.3364,  0.2842,  0.9233,  ...,  0.4353,  0.3420, -0.4443],\n",
            "         [ 0.0479,  0.2493,  0.5264,  ...,  0.0032,  0.2112,  0.1550]]],\n",
            "       device='cuda:0', dtype=torch.float16, grad_fn=<SliceBackward0>)\n"
          ]
        }
      ]
    },
    {
      "cell_type": "code",
      "source": [
        "image_features = multi_modal_projector(selected_image_feature)\n",
        "print(image_features.shape, image_features)"
      ],
      "metadata": {
        "id": "pD-MSa8CZgeK",
        "outputId": "be7fd06e-a79f-4943-845f-ca2da777ab8d",
        "colab": {
          "base_uri": "https://localhost:8080/"
        }
      },
      "execution_count": null,
      "outputs": [
        {
          "output_type": "stream",
          "name": "stdout",
          "text": [
            "torch.Size([1, 576, 4096]) tensor([[[ 0.0718,  0.7710, -0.4734,  ..., -0.2423,  0.6743, -0.1895],\n",
            "         [ 0.5903,  0.4768, -0.6670,  ..., -0.4971,  0.5259, -0.3545],\n",
            "         [ 0.5405,  0.4556, -0.1338,  ..., -0.3860,  1.0166, -0.4998],\n",
            "         ...,\n",
            "         [ 0.8389,  0.0048, -1.1475,  ..., -0.2019,  0.4473,  0.0886],\n",
            "         [ 0.6997,  0.1176, -0.7114,  ..., -0.6050,  0.8491,  0.0121],\n",
            "         [ 0.0582,  0.4683, -0.4680,  ..., -0.5923,  0.4304, -0.4587]]],\n",
            "       device='cuda:0', dtype=torch.float16, grad_fn=<MatMul4BitBackward>)\n"
          ]
        }
      ]
    },
    {
      "cell_type": "code",
      "source": [
        "print(image_features.shape, inputs_embeds.shape)\n",
        "inputs_embeds, attention_mask, position_ids = _merge_input_ids_with_image_features(\n",
        "                image_features, inputs_embeds, inputs['input_ids'], attention_mask, position_ids\n",
        "            )\n",
        "\n",
        "print(inputs_embeds.shape, inputs_embeds)"
      ],
      "metadata": {
        "id": "Ty5Wo9tbaVCq",
        "outputId": "3a183fbc-6082-451f-f2a9-cd752816fb9d",
        "colab": {
          "base_uri": "https://localhost:8080/"
        }
      },
      "execution_count": null,
      "outputs": [
        {
          "output_type": "stream",
          "name": "stdout",
          "text": [
            "torch.Size([1, 576, 4096]) torch.Size([1, 20, 4096])\n",
            "torch.Size([1, 595, 4096]) tensor([[[ 0.0045, -0.0038,  0.0017,  ..., -0.0088,  0.0025, -0.0025],\n",
            "         [ 0.0718,  0.7710, -0.4734,  ..., -0.2423,  0.6743, -0.1895],\n",
            "         [ 0.5903,  0.4768, -0.6670,  ..., -0.4971,  0.5259, -0.3545],\n",
            "         ...,\n",
            "         [-0.0187, -0.0017,  0.0177,  ...,  0.0238,  0.0052,  0.0101],\n",
            "         [ 0.0066, -0.0161,  0.0117,  ..., -0.0103,  0.0148,  0.0073],\n",
            "         [ 0.0039,  0.0015,  0.0055,  ..., -0.0042,  0.0151,  0.0024]]],\n",
            "       device='cuda:0', dtype=torch.float16, grad_fn=<IndexPutBackward0>)\n"
          ]
        }
      ]
    },
    {
      "cell_type": "code",
      "source": [
        "def merge_input_ids_with_image_features( image_features, inputs_embeds, input_ids, attention_mask, position_ids):\n",
        "    num_images, num_image_patches, embed_dim = image_features.shape\n",
        "    batch_size, sequence_length = input_ids.shape\n",
        "    left_padding = not torch.sum(input_ids[:, -1] == torch.tensor(model_llava.pad_token_id))\n",
        "    # 1. Create a mask to know where special image tokens are\n",
        "    special_image_token_mask = input_ids == model_llava.config.image_token_index\n",
        "    num_special_image_tokens = torch.sum(special_image_token_mask, dim=-1)\n",
        "    # Compute the maximum embed dimension\n",
        "    max_embed_dim = (num_special_image_tokens.max() * (num_image_patches - 1)) + sequence_length\n",
        "    batch_indices, non_image_indices = torch.where(input_ids != model_llava.config.image_token_index)\n",
        "\n",
        "    # 2. Compute the positions where text should be written\n",
        "    # Calculate new positions for text tokens in merged image-text sequence.\n",
        "    # `special_image_token_mask` identifies image tokens. Each image token will be replaced by `nb_text_tokens_per_images - 1` text tokens.\n",
        "    # `torch.cumsum` computes how each image token shifts subsequent text token positions.\n",
        "    # - 1 to adjust for zero-based indexing, as `cumsum` inherently increases indices by one.\n",
        "    new_token_positions = torch.cumsum((special_image_token_mask * (num_image_patches - 1) + 1), -1) - 1\n",
        "    nb_image_pad = max_embed_dim - 1 - new_token_positions[:, -1]\n",
        "    if left_padding:\n",
        "        new_token_positions += nb_image_pad[:, None]  # offset for left padding\n",
        "    text_to_overwrite = new_token_positions[batch_indices, non_image_indices]\n",
        "\n",
        "    # 3. Create the full embedding, already padded to the maximum position\n",
        "    final_embedding = torch.zeros(\n",
        "        batch_size, max_embed_dim, embed_dim, dtype=inputs_embeds.dtype, device=inputs_embeds.device\n",
        "    )\n",
        "    final_attention_mask = torch.zeros(\n",
        "        batch_size, max_embed_dim, dtype=attention_mask.dtype, device=inputs_embeds.device\n",
        "    )\n",
        "\n",
        "    # 4. Fill the embeddings based on the mask. If we have [\"hey\" \"<image>\", \"how\", \"are\"]\n",
        "    # we need to index copy on [0, 577, 578, 579] for the text and [1:576] for the image features\n",
        "    final_embedding[batch_indices, text_to_overwrite] = inputs_embeds[batch_indices, non_image_indices]\n",
        "    final_attention_mask[batch_indices, text_to_overwrite] = attention_mask[batch_indices, non_image_indices]\n",
        "\n",
        "    # 5. Fill the embeddings corresponding to the images. Anything that is still zeros needs filling\n",
        "    image_to_overwrite = torch.all(final_embedding == 0, dim=-1)\n",
        "    image_to_overwrite &= image_to_overwrite.cumsum(-1) - 1 >= nb_image_pad[:, None]\n",
        "\n",
        "    if image_to_overwrite.sum() != image_features.shape[:-1].numel():\n",
        "        raise ValueError(\n",
        "            f\"The input provided to the model are wrong. The number of image tokens is {torch.sum(special_image_token_mask)} while\"\n",
        "            f\" the number of image given to the model is {num_images}. This prevents correct indexing and breaks batch generation.\"\n",
        "        )\n",
        "\n",
        "    final_embedding[image_to_overwrite] = image_features.contiguous().reshape(-1, embed_dim)\n",
        "    final_attention_mask |= image_to_overwrite\n",
        "    position_ids = (final_attention_mask.cumsum(-1) - 1).masked_fill_((final_attention_mask == 0), 1)\n",
        "    return final_embedding, final_attention_mask, position_ids\n",
        "\n",
        "print(image_features.shape, inputs_embeds.shape)\n",
        "inputs_embeds, attention_mask, position_ids = merge_input_ids_with_image_features(\n",
        "                image_features, inputs_embeds, inputs['input_ids'], attention_mask, position_ids\n",
        "            )\n",
        "\n",
        "print(inputs_embeds.shape, inputs_embeds)\n"
      ],
      "metadata": {
        "id": "8l-WcqaZa1Fu",
        "outputId": "2079bcc5-acc9-48ea-a912-fed17c80991a",
        "colab": {
          "base_uri": "https://localhost:8080/"
        }
      },
      "execution_count": null,
      "outputs": [
        {
          "output_type": "stream",
          "name": "stdout",
          "text": [
            "torch.Size([1, 576, 4096]) torch.Size([1, 595, 4096])\n",
            "torch.Size([1, 595, 4096]) tensor([[[ 0.0045, -0.0038,  0.0017,  ..., -0.0088,  0.0025, -0.0025],\n",
            "         [ 0.0718,  0.7710, -0.4734,  ..., -0.2423,  0.6743, -0.1895],\n",
            "         [ 0.5903,  0.4768, -0.6670,  ..., -0.4971,  0.5259, -0.3545],\n",
            "         ...,\n",
            "         [ 1.4023,  0.5166, -0.0838,  ..., -0.8745,  0.1522, -0.6401],\n",
            "         [ 0.4265,  0.7480, -1.0049,  ..., -0.1869,  0.7275,  0.0514],\n",
            "         [-0.0573,  0.6553, -0.5039,  ..., -0.5781,  0.2234,  0.0302]]],\n",
            "       device='cuda:0', dtype=torch.float16, grad_fn=<IndexPutBackward0>)\n"
          ]
        }
      ]
    },
    {
      "cell_type": "code",
      "source": [
        "model_llava.pad_token_id, model_llava.config.image_token_index"
      ],
      "metadata": {
        "id": "UIZpZzggbJcf",
        "outputId": "1bf8a11a-04b7-4bca-ff8d-5cd3b3ec8ef7",
        "colab": {
          "base_uri": "https://localhost:8080/"
        }
      },
      "execution_count": null,
      "outputs": [
        {
          "output_type": "execute_result",
          "data": {
            "text/plain": [
              "(32001, 32000)"
            ]
          },
          "metadata": {},
          "execution_count": 34
        }
      ]
    },
    {
      "cell_type": "code",
      "source": [],
      "metadata": {
        "id": "0wJsSVv-e_fe"
      },
      "execution_count": null,
      "outputs": []
    }
  ]
}