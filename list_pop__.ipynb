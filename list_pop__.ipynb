{
  "nbformat": 4,
  "nbformat_minor": 0,
  "metadata": {
    "colab": {
      "provenance": [],
      "authorship_tag": "ABX9TyNaxxyO2l7sxoyEmbKDNAgc",
      "include_colab_link": true
    },
    "kernelspec": {
      "name": "python3",
      "display_name": "Python 3"
    },
    "language_info": {
      "name": "python"
    }
  },
  "cells": [
    {
      "cell_type": "markdown",
      "metadata": {
        "id": "view-in-github",
        "colab_type": "text"
      },
      "source": [
        "<a href=\"https://colab.research.google.com/github/AoShuang92/PhD_tutorial/blob/main/list_pop__.ipynb\" target=\"_parent\"><img src=\"https://colab.research.google.com/assets/colab-badge.svg\" alt=\"Open In Colab\"/></a>"
      ]
    },
    {
      "cell_type": "code",
      "execution_count": 1,
      "metadata": {
        "id": "_xx79yLiNc6V"
      },
      "outputs": [],
      "source": [
        "grid = ['eabcd', 'fghij', 'olkmn']\n",
        "\n",
        "f = [sorted(x) for x in grid]\n",
        "c = zip(*f)\n",
        "cd = list(c)"
      ]
    },
    {
      "cell_type": "code",
      "source": [
        "zip(f)"
      ],
      "metadata": {
        "colab": {
          "base_uri": "https://localhost:8080/"
        },
        "id": "Q1IX74ePP40Y",
        "outputId": "96021477-df56-469c-8254-b5e967a7e4ee"
      },
      "execution_count": 2,
      "outputs": [
        {
          "output_type": "execute_result",
          "data": {
            "text/plain": [
              "<zip at 0x7facd0f37900>"
            ]
          },
          "metadata": {},
          "execution_count": 2
        }
      ]
    },
    {
      "cell_type": "code",
      "source": [
        "cd"
      ],
      "metadata": {
        "colab": {
          "base_uri": "https://localhost:8080/"
        },
        "id": "zG42LYbuPMS1",
        "outputId": "8c09ad24-e2f9-45a2-a87a-c7c14a9fb0c0"
      },
      "execution_count": 3,
      "outputs": [
        {
          "output_type": "execute_result",
          "data": {
            "text/plain": [
              "[('a', 'f', 'k'),\n",
              " ('b', 'g', 'l'),\n",
              " ('c', 'h', 'm'),\n",
              " ('d', 'i', 'n'),\n",
              " ('e', 'j', 'o')]"
            ]
          },
          "metadata": {},
          "execution_count": 3
        }
      ]
    },
    {
      "cell_type": "code",
      "source": [
        "f"
      ],
      "metadata": {
        "colab": {
          "base_uri": "https://localhost:8080/"
        },
        "id": "H3v8hI7AN5K2",
        "outputId": "70edf786-c091-4d4a-e08b-e193723a7bc2"
      },
      "execution_count": 4,
      "outputs": [
        {
          "output_type": "execute_result",
          "data": {
            "text/plain": [
              "[['a', 'b', 'c', 'd', 'e'],\n",
              " ['f', 'g', 'h', 'i', 'j'],\n",
              " ['k', 'l', 'm', 'n', 'o']]"
            ]
          },
          "metadata": {},
          "execution_count": 4
        }
      ]
    },
    {
      "cell_type": "code",
      "source": [
        "grid"
      ],
      "metadata": {
        "colab": {
          "base_uri": "https://localhost:8080/"
        },
        "id": "s5AdTKuZN6MO",
        "outputId": "2e711be3-d92f-435f-9ef9-5eaf7a018f6b"
      },
      "execution_count": 5,
      "outputs": [
        {
          "output_type": "execute_result",
          "data": {
            "text/plain": [
              "['eabcd', 'fghij', 'olkmn']"
            ]
          },
          "metadata": {},
          "execution_count": 5
        }
      ]
    },
    {
      "cell_type": "code",
      "source": [
        "type(grid), type(f), len(grid), len(f), len(grid[1]), len(f[1])"
      ],
      "metadata": {
        "colab": {
          "base_uri": "https://localhost:8080/"
        },
        "id": "qMnoWKtmN8mw",
        "outputId": "04029c39-fa5c-4971-c791-b555c04a0802"
      },
      "execution_count": 6,
      "outputs": [
        {
          "output_type": "execute_result",
          "data": {
            "text/plain": [
              "(list, list, 3, 3, 5, 5)"
            ]
          },
          "metadata": {},
          "execution_count": 6
        }
      ]
    },
    {
      "cell_type": "code",
      "source": [
        "eabcd\n",
        "fghij\n",
        "olkmn\n",
        "trpqs\n",
        "xywuv"
      ],
      "metadata": {
        "id": "nU7x_ghFOIxH"
      },
      "execution_count": null,
      "outputs": []
    },
    {
      "cell_type": "code",
      "source": [],
      "metadata": {
        "id": "Q1TEIKLvnu8O"
      },
      "execution_count": null,
      "outputs": []
    },
    {
      "cell_type": "code",
      "source": [
        "aa = [2,3,4,5]\n",
        "val = list(map(int,aa))\n",
        "val[0]"
      ],
      "metadata": {
        "colab": {
          "base_uri": "https://localhost:8080/"
        },
        "id": "9w7RPMOWnvEe",
        "outputId": "19f1c2be-a33f-4fe6-f245-711eb4590bd6"
      },
      "execution_count": 7,
      "outputs": [
        {
          "output_type": "execute_result",
          "data": {
            "text/plain": [
              "2"
            ]
          },
          "metadata": {},
          "execution_count": 7
        }
      ]
    },
    {
      "cell_type": "code",
      "source": [
        "aa.pop(0), aa"
      ],
      "metadata": {
        "colab": {
          "base_uri": "https://localhost:8080/"
        },
        "id": "iXfPRUdeoASb",
        "outputId": "09db2a7c-fdb6-4a94-a01e-2431e30c7d07"
      },
      "execution_count": 8,
      "outputs": [
        {
          "output_type": "execute_result",
          "data": {
            "text/plain": [
              "(2, [3, 4, 5])"
            ]
          },
          "metadata": {},
          "execution_count": 8
        }
      ]
    },
    {
      "cell_type": "code",
      "source": [],
      "metadata": {
        "colab": {
          "base_uri": "https://localhost:8080/"
        },
        "id": "7qzI4YFBopuw",
        "outputId": "5a21bfdc-3716-4ee1-f15a-12eeb776c4d8"
      },
      "execution_count": 29,
      "outputs": [
        {
          "output_type": "execute_result",
          "data": {
            "text/plain": [
              "2"
            ]
          },
          "metadata": {},
          "execution_count": 29
        }
      ]
    },
    {
      "cell_type": "code",
      "source": [
        "#*: extract all values\n",
        "capital_city = {\"Nepal\": 0, \"Italy\": \"Rome\", \"England\": \"London\"}\n",
        "print(*capital_city)"
      ],
      "metadata": {
        "colab": {
          "base_uri": "https://localhost:8080/"
        },
        "id": "z5qBGMJ1pSOx",
        "outputId": "5320effc-7478-4ebd-e5c7-4d28cbd116dc"
      },
      "execution_count": 9,
      "outputs": [
        {
          "output_type": "stream",
          "name": "stdout",
          "text": [
            "Nepal Italy England\n"
          ]
        }
      ]
    },
    {
      "cell_type": "code",
      "source": [],
      "metadata": {
        "id": "jDcEFFTDpriH"
      },
      "execution_count": null,
      "outputs": []
    }
  ]
}